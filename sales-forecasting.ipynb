{
 "cells": [
  {
   "cell_type": "markdown",
   "metadata": {},
   "source": [
    "# Walmart Sales Forecasting"
   ]
  },
  {
   "cell_type": "markdown",
   "metadata": {},
   "source": [
    "<ul>\n",
    "    <li> Start time and date: December 17, 12:39 PM EST </li>\n",
    "    <li> End time and date: December 18, 2:47 PM EST </li>\n",
    "</ul>"
   ]
  },
  {
   "cell_type": "markdown",
   "metadata": {},
   "source": [
    "Given data about weekly sales at Walmart stores across the US we are asked to predict weekly sales given department, store and a specific week during the year. In essence, we want to build a regression model to predict sales minimizing MSE or MAE.\n",
    "\n"
   ]
  },
  {
   "cell_type": "markdown",
   "metadata": {},
   "source": [
    "## Load Data"
   ]
  },
  {
   "cell_type": "code",
   "execution_count": 1,
   "metadata": {},
   "outputs": [],
   "source": [
    "import pandas as pd\n",
    "import numpy as np"
   ]
  },
  {
   "cell_type": "code",
   "execution_count": 2,
   "metadata": {},
   "outputs": [],
   "source": [
    "features_df = pd.read_csv('features.csv')\n",
    "stores_df = pd.read_csv('stores.csv')\n",
    "sales_df = pd.read_csv('train.csv')"
   ]
  },
  {
   "cell_type": "code",
   "execution_count": 3,
   "metadata": {},
   "outputs": [
    {
     "data": {
      "text/html": [
       "<div>\n",
       "<style scoped>\n",
       "    .dataframe tbody tr th:only-of-type {\n",
       "        vertical-align: middle;\n",
       "    }\n",
       "\n",
       "    .dataframe tbody tr th {\n",
       "        vertical-align: top;\n",
       "    }\n",
       "\n",
       "    .dataframe thead th {\n",
       "        text-align: right;\n",
       "    }\n",
       "</style>\n",
       "<table border=\"1\" class=\"dataframe\">\n",
       "  <thead>\n",
       "    <tr style=\"text-align: right;\">\n",
       "      <th></th>\n",
       "      <th>Store</th>\n",
       "      <th>Date</th>\n",
       "      <th>Temperature</th>\n",
       "      <th>Fuel_Price</th>\n",
       "      <th>MarkDown1</th>\n",
       "      <th>MarkDown2</th>\n",
       "      <th>MarkDown3</th>\n",
       "      <th>MarkDown4</th>\n",
       "      <th>MarkDown5</th>\n",
       "      <th>CPI</th>\n",
       "      <th>Unemployment</th>\n",
       "      <th>IsHoliday</th>\n",
       "    </tr>\n",
       "  </thead>\n",
       "  <tbody>\n",
       "    <tr>\n",
       "      <th>2790</th>\n",
       "      <td>16</td>\n",
       "      <td>2011-04-01</td>\n",
       "      <td>35.75</td>\n",
       "      <td>3.461</td>\n",
       "      <td>NaN</td>\n",
       "      <td>NaN</td>\n",
       "      <td>NaN</td>\n",
       "      <td>NaN</td>\n",
       "      <td>NaN</td>\n",
       "      <td>192.269171</td>\n",
       "      <td>6.339</td>\n",
       "      <td>False</td>\n",
       "    </tr>\n",
       "    <tr>\n",
       "      <th>5643</th>\n",
       "      <td>32</td>\n",
       "      <td>2010-02-12</td>\n",
       "      <td>28.09</td>\n",
       "      <td>2.572</td>\n",
       "      <td>NaN</td>\n",
       "      <td>NaN</td>\n",
       "      <td>NaN</td>\n",
       "      <td>NaN</td>\n",
       "      <td>NaN</td>\n",
       "      <td>189.464273</td>\n",
       "      <td>9.014</td>\n",
       "      <td>True</td>\n",
       "    </tr>\n",
       "    <tr>\n",
       "      <th>806</th>\n",
       "      <td>5</td>\n",
       "      <td>2011-08-05</td>\n",
       "      <td>91.07</td>\n",
       "      <td>3.684</td>\n",
       "      <td>NaN</td>\n",
       "      <td>NaN</td>\n",
       "      <td>NaN</td>\n",
       "      <td>NaN</td>\n",
       "      <td>NaN</td>\n",
       "      <td>216.107120</td>\n",
       "      <td>6.529</td>\n",
       "      <td>False</td>\n",
       "    </tr>\n",
       "    <tr>\n",
       "      <th>1456</th>\n",
       "      <td>9</td>\n",
       "      <td>2010-02-05</td>\n",
       "      <td>38.01</td>\n",
       "      <td>2.572</td>\n",
       "      <td>NaN</td>\n",
       "      <td>NaN</td>\n",
       "      <td>NaN</td>\n",
       "      <td>NaN</td>\n",
       "      <td>NaN</td>\n",
       "      <td>214.655459</td>\n",
       "      <td>6.415</td>\n",
       "      <td>False</td>\n",
       "    </tr>\n",
       "    <tr>\n",
       "      <th>1294</th>\n",
       "      <td>8</td>\n",
       "      <td>2010-06-25</td>\n",
       "      <td>81.78</td>\n",
       "      <td>2.653</td>\n",
       "      <td>NaN</td>\n",
       "      <td>NaN</td>\n",
       "      <td>NaN</td>\n",
       "      <td>NaN</td>\n",
       "      <td>NaN</td>\n",
       "      <td>214.712629</td>\n",
       "      <td>6.290</td>\n",
       "      <td>False</td>\n",
       "    </tr>\n",
       "    <tr>\n",
       "      <th>4983</th>\n",
       "      <td>28</td>\n",
       "      <td>2011-06-03</td>\n",
       "      <td>71.81</td>\n",
       "      <td>4.031</td>\n",
       "      <td>NaN</td>\n",
       "      <td>NaN</td>\n",
       "      <td>NaN</td>\n",
       "      <td>NaN</td>\n",
       "      <td>NaN</td>\n",
       "      <td>129.049032</td>\n",
       "      <td>13.736</td>\n",
       "      <td>False</td>\n",
       "    </tr>\n",
       "    <tr>\n",
       "      <th>5890</th>\n",
       "      <td>33</td>\n",
       "      <td>2011-05-13</td>\n",
       "      <td>78.24</td>\n",
       "      <td>4.202</td>\n",
       "      <td>NaN</td>\n",
       "      <td>NaN</td>\n",
       "      <td>NaN</td>\n",
       "      <td>NaN</td>\n",
       "      <td>NaN</td>\n",
       "      <td>129.089000</td>\n",
       "      <td>8.687</td>\n",
       "      <td>False</td>\n",
       "    </tr>\n",
       "    <tr>\n",
       "      <th>6868</th>\n",
       "      <td>38</td>\n",
       "      <td>2012-08-31</td>\n",
       "      <td>89.78</td>\n",
       "      <td>4.093</td>\n",
       "      <td>489.03</td>\n",
       "      <td>NaN</td>\n",
       "      <td>28.64</td>\n",
       "      <td>334.12</td>\n",
       "      <td>1760.26</td>\n",
       "      <td>130.885355</td>\n",
       "      <td>10.926</td>\n",
       "      <td>False</td>\n",
       "    </tr>\n",
       "    <tr>\n",
       "      <th>2825</th>\n",
       "      <td>16</td>\n",
       "      <td>2011-12-02</td>\n",
       "      <td>27.83</td>\n",
       "      <td>3.378</td>\n",
       "      <td>516.47</td>\n",
       "      <td>61.0</td>\n",
       "      <td>944.52</td>\n",
       "      <td>9.00</td>\n",
       "      <td>7124.75</td>\n",
       "      <td>195.822329</td>\n",
       "      <td>6.232</td>\n",
       "      <td>False</td>\n",
       "    </tr>\n",
       "    <tr>\n",
       "      <th>2015</th>\n",
       "      <td>12</td>\n",
       "      <td>2010-05-07</td>\n",
       "      <td>70.15</td>\n",
       "      <td>3.127</td>\n",
       "      <td>NaN</td>\n",
       "      <td>NaN</td>\n",
       "      <td>NaN</td>\n",
       "      <td>NaN</td>\n",
       "      <td>NaN</td>\n",
       "      <td>126.289800</td>\n",
       "      <td>14.099</td>\n",
       "      <td>False</td>\n",
       "    </tr>\n",
       "  </tbody>\n",
       "</table>\n",
       "</div>"
      ],
      "text/plain": [
       "      Store        Date  Temperature  Fuel_Price  MarkDown1  MarkDown2  \\\n",
       "2790     16  2011-04-01        35.75       3.461        NaN        NaN   \n",
       "5643     32  2010-02-12        28.09       2.572        NaN        NaN   \n",
       "806       5  2011-08-05        91.07       3.684        NaN        NaN   \n",
       "1456      9  2010-02-05        38.01       2.572        NaN        NaN   \n",
       "1294      8  2010-06-25        81.78       2.653        NaN        NaN   \n",
       "4983     28  2011-06-03        71.81       4.031        NaN        NaN   \n",
       "5890     33  2011-05-13        78.24       4.202        NaN        NaN   \n",
       "6868     38  2012-08-31        89.78       4.093     489.03        NaN   \n",
       "2825     16  2011-12-02        27.83       3.378     516.47       61.0   \n",
       "2015     12  2010-05-07        70.15       3.127        NaN        NaN   \n",
       "\n",
       "      MarkDown3  MarkDown4  MarkDown5         CPI  Unemployment  IsHoliday  \n",
       "2790        NaN        NaN        NaN  192.269171         6.339      False  \n",
       "5643        NaN        NaN        NaN  189.464273         9.014       True  \n",
       "806         NaN        NaN        NaN  216.107120         6.529      False  \n",
       "1456        NaN        NaN        NaN  214.655459         6.415      False  \n",
       "1294        NaN        NaN        NaN  214.712629         6.290      False  \n",
       "4983        NaN        NaN        NaN  129.049032        13.736      False  \n",
       "5890        NaN        NaN        NaN  129.089000         8.687      False  \n",
       "6868      28.64     334.12    1760.26  130.885355        10.926      False  \n",
       "2825     944.52       9.00    7124.75  195.822329         6.232      False  \n",
       "2015        NaN        NaN        NaN  126.289800        14.099      False  "
      ]
     },
     "execution_count": 3,
     "metadata": {},
     "output_type": "execute_result"
    }
   ],
   "source": [
    "features_df.sample(10)"
   ]
  },
  {
   "cell_type": "code",
   "execution_count": 4,
   "metadata": {},
   "outputs": [
    {
     "name": "stdout",
     "output_type": "stream",
     "text": [
      "<class 'pandas.core.frame.DataFrame'>\n",
      "RangeIndex: 8190 entries, 0 to 8189\n",
      "Data columns (total 12 columns):\n",
      "Store           8190 non-null int64\n",
      "Date            8190 non-null object\n",
      "Temperature     8190 non-null float64\n",
      "Fuel_Price      8190 non-null float64\n",
      "MarkDown1       4032 non-null float64\n",
      "MarkDown2       2921 non-null float64\n",
      "MarkDown3       3613 non-null float64\n",
      "MarkDown4       3464 non-null float64\n",
      "MarkDown5       4050 non-null float64\n",
      "CPI             7605 non-null float64\n",
      "Unemployment    7605 non-null float64\n",
      "IsHoliday       8190 non-null bool\n",
      "dtypes: bool(1), float64(9), int64(1), object(1)\n",
      "memory usage: 711.9+ KB\n"
     ]
    }
   ],
   "source": [
    "features_df.info()"
   ]
  },
  {
   "cell_type": "markdown",
   "metadata": {},
   "source": [
    "Most of the missing values come from the `Markdown` columns. We will have to impute these values if necessary."
   ]
  },
  {
   "cell_type": "code",
   "execution_count": 5,
   "metadata": {},
   "outputs": [
    {
     "data": {
      "text/html": [
       "<div>\n",
       "<style scoped>\n",
       "    .dataframe tbody tr th:only-of-type {\n",
       "        vertical-align: middle;\n",
       "    }\n",
       "\n",
       "    .dataframe tbody tr th {\n",
       "        vertical-align: top;\n",
       "    }\n",
       "\n",
       "    .dataframe thead th {\n",
       "        text-align: right;\n",
       "    }\n",
       "</style>\n",
       "<table border=\"1\" class=\"dataframe\">\n",
       "  <thead>\n",
       "    <tr style=\"text-align: right;\">\n",
       "      <th></th>\n",
       "      <th>Store</th>\n",
       "      <th>Dept</th>\n",
       "      <th>Date</th>\n",
       "      <th>Weekly_Sales</th>\n",
       "      <th>IsHoliday</th>\n",
       "    </tr>\n",
       "  </thead>\n",
       "  <tbody>\n",
       "    <tr>\n",
       "      <th>124518</th>\n",
       "      <td>13</td>\n",
       "      <td>55</td>\n",
       "      <td>2011-05-06</td>\n",
       "      <td>12351.10</td>\n",
       "      <td>False</td>\n",
       "    </tr>\n",
       "    <tr>\n",
       "      <th>54045</th>\n",
       "      <td>6</td>\n",
       "      <td>38</td>\n",
       "      <td>2012-09-28</td>\n",
       "      <td>71173.04</td>\n",
       "      <td>False</td>\n",
       "    </tr>\n",
       "    <tr>\n",
       "      <th>27927</th>\n",
       "      <td>3</td>\n",
       "      <td>79</td>\n",
       "      <td>2011-11-04</td>\n",
       "      <td>6844.26</td>\n",
       "      <td>False</td>\n",
       "    </tr>\n",
       "    <tr>\n",
       "      <th>406850</th>\n",
       "      <td>44</td>\n",
       "      <td>16</td>\n",
       "      <td>2011-11-25</td>\n",
       "      <td>681.44</td>\n",
       "      <td>True</td>\n",
       "    </tr>\n",
       "    <tr>\n",
       "      <th>12521</th>\n",
       "      <td>2</td>\n",
       "      <td>17</td>\n",
       "      <td>2012-08-17</td>\n",
       "      <td>14577.63</td>\n",
       "      <td>False</td>\n",
       "    </tr>\n",
       "    <tr>\n",
       "      <th>275185</th>\n",
       "      <td>28</td>\n",
       "      <td>81</td>\n",
       "      <td>2012-09-07</td>\n",
       "      <td>27370.05</td>\n",
       "      <td>True</td>\n",
       "    </tr>\n",
       "    <tr>\n",
       "      <th>163626</th>\n",
       "      <td>17</td>\n",
       "      <td>51</td>\n",
       "      <td>2011-07-22</td>\n",
       "      <td>3.96</td>\n",
       "      <td>False</td>\n",
       "    </tr>\n",
       "    <tr>\n",
       "      <th>338849</th>\n",
       "      <td>35</td>\n",
       "      <td>83</td>\n",
       "      <td>2011-06-17</td>\n",
       "      <td>557.18</td>\n",
       "      <td>False</td>\n",
       "    </tr>\n",
       "    <tr>\n",
       "      <th>130723</th>\n",
       "      <td>14</td>\n",
       "      <td>20</td>\n",
       "      <td>2011-10-28</td>\n",
       "      <td>8430.03</td>\n",
       "      <td>False</td>\n",
       "    </tr>\n",
       "    <tr>\n",
       "      <th>230638</th>\n",
       "      <td>24</td>\n",
       "      <td>28</td>\n",
       "      <td>2011-05-20</td>\n",
       "      <td>703.20</td>\n",
       "      <td>False</td>\n",
       "    </tr>\n",
       "  </tbody>\n",
       "</table>\n",
       "</div>"
      ],
      "text/plain": [
       "        Store  Dept        Date  Weekly_Sales  IsHoliday\n",
       "124518     13    55  2011-05-06      12351.10      False\n",
       "54045       6    38  2012-09-28      71173.04      False\n",
       "27927       3    79  2011-11-04       6844.26      False\n",
       "406850     44    16  2011-11-25        681.44       True\n",
       "12521       2    17  2012-08-17      14577.63      False\n",
       "275185     28    81  2012-09-07      27370.05       True\n",
       "163626     17    51  2011-07-22          3.96      False\n",
       "338849     35    83  2011-06-17        557.18      False\n",
       "130723     14    20  2011-10-28       8430.03      False\n",
       "230638     24    28  2011-05-20        703.20      False"
      ]
     },
     "execution_count": 5,
     "metadata": {},
     "output_type": "execute_result"
    }
   ],
   "source": [
    "sales_df.sample(10)"
   ]
  },
  {
   "cell_type": "code",
   "execution_count": 6,
   "metadata": {},
   "outputs": [
    {
     "name": "stdout",
     "output_type": "stream",
     "text": [
      "<class 'pandas.core.frame.DataFrame'>\n",
      "RangeIndex: 421570 entries, 0 to 421569\n",
      "Data columns (total 5 columns):\n",
      "Store           421570 non-null int64\n",
      "Dept            421570 non-null int64\n",
      "Date            421570 non-null object\n",
      "Weekly_Sales    421570 non-null float64\n",
      "IsHoliday       421570 non-null bool\n",
      "dtypes: bool(1), float64(1), int64(2), object(1)\n",
      "memory usage: 13.3+ MB\n"
     ]
    }
   ],
   "source": [
    "sales_df.info()"
   ]
  },
  {
   "cell_type": "markdown",
   "metadata": {},
   "source": [
    "No missing values for any of the columns in our sales_df. Let's merge these two datasets perforiming a left join on `sales_df`."
   ]
  },
  {
   "cell_type": "code",
   "execution_count": 7,
   "metadata": {},
   "outputs": [
    {
     "data": {
      "text/plain": [
       "(421570, 15)"
      ]
     },
     "execution_count": 7,
     "metadata": {},
     "output_type": "execute_result"
    }
   ],
   "source": [
    "df = pd.merge(sales_df, features_df, on = ['Date', 'Store'], how = 'left')\n",
    "df.shape"
   ]
  },
  {
   "cell_type": "code",
   "execution_count": 8,
   "metadata": {},
   "outputs": [
    {
     "data": {
      "text/html": [
       "<div>\n",
       "<style scoped>\n",
       "    .dataframe tbody tr th:only-of-type {\n",
       "        vertical-align: middle;\n",
       "    }\n",
       "\n",
       "    .dataframe tbody tr th {\n",
       "        vertical-align: top;\n",
       "    }\n",
       "\n",
       "    .dataframe thead th {\n",
       "        text-align: right;\n",
       "    }\n",
       "</style>\n",
       "<table border=\"1\" class=\"dataframe\">\n",
       "  <thead>\n",
       "    <tr style=\"text-align: right;\">\n",
       "      <th></th>\n",
       "      <th>Store</th>\n",
       "      <th>Dept</th>\n",
       "      <th>Date</th>\n",
       "      <th>Weekly_Sales</th>\n",
       "      <th>IsHoliday_x</th>\n",
       "      <th>Temperature</th>\n",
       "      <th>Fuel_Price</th>\n",
       "      <th>MarkDown1</th>\n",
       "      <th>MarkDown2</th>\n",
       "      <th>MarkDown3</th>\n",
       "      <th>MarkDown4</th>\n",
       "      <th>MarkDown5</th>\n",
       "      <th>CPI</th>\n",
       "      <th>Unemployment</th>\n",
       "      <th>IsHoliday_y</th>\n",
       "    </tr>\n",
       "  </thead>\n",
       "  <tbody>\n",
       "    <tr>\n",
       "      <th>0</th>\n",
       "      <td>1</td>\n",
       "      <td>1</td>\n",
       "      <td>2010-02-05</td>\n",
       "      <td>24924.50</td>\n",
       "      <td>False</td>\n",
       "      <td>42.31</td>\n",
       "      <td>2.572</td>\n",
       "      <td>NaN</td>\n",
       "      <td>NaN</td>\n",
       "      <td>NaN</td>\n",
       "      <td>NaN</td>\n",
       "      <td>NaN</td>\n",
       "      <td>211.096358</td>\n",
       "      <td>8.106</td>\n",
       "      <td>False</td>\n",
       "    </tr>\n",
       "    <tr>\n",
       "      <th>1</th>\n",
       "      <td>1</td>\n",
       "      <td>1</td>\n",
       "      <td>2010-02-12</td>\n",
       "      <td>46039.49</td>\n",
       "      <td>True</td>\n",
       "      <td>38.51</td>\n",
       "      <td>2.548</td>\n",
       "      <td>NaN</td>\n",
       "      <td>NaN</td>\n",
       "      <td>NaN</td>\n",
       "      <td>NaN</td>\n",
       "      <td>NaN</td>\n",
       "      <td>211.242170</td>\n",
       "      <td>8.106</td>\n",
       "      <td>True</td>\n",
       "    </tr>\n",
       "    <tr>\n",
       "      <th>2</th>\n",
       "      <td>1</td>\n",
       "      <td>1</td>\n",
       "      <td>2010-02-19</td>\n",
       "      <td>41595.55</td>\n",
       "      <td>False</td>\n",
       "      <td>39.93</td>\n",
       "      <td>2.514</td>\n",
       "      <td>NaN</td>\n",
       "      <td>NaN</td>\n",
       "      <td>NaN</td>\n",
       "      <td>NaN</td>\n",
       "      <td>NaN</td>\n",
       "      <td>211.289143</td>\n",
       "      <td>8.106</td>\n",
       "      <td>False</td>\n",
       "    </tr>\n",
       "    <tr>\n",
       "      <th>3</th>\n",
       "      <td>1</td>\n",
       "      <td>1</td>\n",
       "      <td>2010-02-26</td>\n",
       "      <td>19403.54</td>\n",
       "      <td>False</td>\n",
       "      <td>46.63</td>\n",
       "      <td>2.561</td>\n",
       "      <td>NaN</td>\n",
       "      <td>NaN</td>\n",
       "      <td>NaN</td>\n",
       "      <td>NaN</td>\n",
       "      <td>NaN</td>\n",
       "      <td>211.319643</td>\n",
       "      <td>8.106</td>\n",
       "      <td>False</td>\n",
       "    </tr>\n",
       "    <tr>\n",
       "      <th>4</th>\n",
       "      <td>1</td>\n",
       "      <td>1</td>\n",
       "      <td>2010-03-05</td>\n",
       "      <td>21827.90</td>\n",
       "      <td>False</td>\n",
       "      <td>46.50</td>\n",
       "      <td>2.625</td>\n",
       "      <td>NaN</td>\n",
       "      <td>NaN</td>\n",
       "      <td>NaN</td>\n",
       "      <td>NaN</td>\n",
       "      <td>NaN</td>\n",
       "      <td>211.350143</td>\n",
       "      <td>8.106</td>\n",
       "      <td>False</td>\n",
       "    </tr>\n",
       "  </tbody>\n",
       "</table>\n",
       "</div>"
      ],
      "text/plain": [
       "   Store  Dept        Date  Weekly_Sales  IsHoliday_x  Temperature  \\\n",
       "0      1     1  2010-02-05      24924.50        False        42.31   \n",
       "1      1     1  2010-02-12      46039.49         True        38.51   \n",
       "2      1     1  2010-02-19      41595.55        False        39.93   \n",
       "3      1     1  2010-02-26      19403.54        False        46.63   \n",
       "4      1     1  2010-03-05      21827.90        False        46.50   \n",
       "\n",
       "   Fuel_Price  MarkDown1  MarkDown2  MarkDown3  MarkDown4  MarkDown5  \\\n",
       "0       2.572        NaN        NaN        NaN        NaN        NaN   \n",
       "1       2.548        NaN        NaN        NaN        NaN        NaN   \n",
       "2       2.514        NaN        NaN        NaN        NaN        NaN   \n",
       "3       2.561        NaN        NaN        NaN        NaN        NaN   \n",
       "4       2.625        NaN        NaN        NaN        NaN        NaN   \n",
       "\n",
       "          CPI  Unemployment  IsHoliday_y  \n",
       "0  211.096358         8.106        False  \n",
       "1  211.242170         8.106         True  \n",
       "2  211.289143         8.106        False  \n",
       "3  211.319643         8.106        False  \n",
       "4  211.350143         8.106        False  "
      ]
     },
     "execution_count": 8,
     "metadata": {},
     "output_type": "execute_result"
    }
   ],
   "source": [
    "df.head()"
   ]
  },
  {
   "cell_type": "markdown",
   "metadata": {},
   "source": [
    "Let's drop `IsHoliday_y` since it is redundant."
   ]
  },
  {
   "cell_type": "code",
   "execution_count": 9,
   "metadata": {},
   "outputs": [
    {
     "data": {
      "text/plain": [
       "True    421570\n",
       "dtype: int64"
      ]
     },
     "execution_count": 9,
     "metadata": {},
     "output_type": "execute_result"
    }
   ],
   "source": [
    "(df['IsHoliday_y'] == df['IsHoliday_x']).value_counts()"
   ]
  },
  {
   "cell_type": "code",
   "execution_count": 10,
   "metadata": {},
   "outputs": [
    {
     "data": {
      "text/plain": [
       "Index(['Store', 'Dept', 'Date', 'Weekly_Sales', 'IsHoliday_x', 'Temperature',\n",
       "       'Fuel_Price', 'MarkDown1', 'MarkDown2', 'MarkDown3', 'MarkDown4',\n",
       "       'MarkDown5', 'CPI', 'Unemployment'],\n",
       "      dtype='object')"
      ]
     },
     "execution_count": 10,
     "metadata": {},
     "output_type": "execute_result"
    }
   ],
   "source": [
    "df = df.drop(['IsHoliday_y'], axis = 1)\n",
    "df.columns"
   ]
  },
  {
   "cell_type": "code",
   "execution_count": 11,
   "metadata": {},
   "outputs": [],
   "source": [
    "df.columns = ['Store', 'Dept', 'Date', 'Weekly_Sales', 'IsHoliday', 'Temperature',\n",
    "       'Fuel_Price', 'MarkDown1', 'MarkDown2', 'MarkDown3', 'MarkDown4',\n",
    "       'MarkDown5', 'CPI', 'Unemployment']"
   ]
  },
  {
   "cell_type": "code",
   "execution_count": 12,
   "metadata": {
    "scrolled": true
   },
   "outputs": [
    {
     "data": {
      "text/html": [
       "<div>\n",
       "<style scoped>\n",
       "    .dataframe tbody tr th:only-of-type {\n",
       "        vertical-align: middle;\n",
       "    }\n",
       "\n",
       "    .dataframe tbody tr th {\n",
       "        vertical-align: top;\n",
       "    }\n",
       "\n",
       "    .dataframe thead th {\n",
       "        text-align: right;\n",
       "    }\n",
       "</style>\n",
       "<table border=\"1\" class=\"dataframe\">\n",
       "  <thead>\n",
       "    <tr style=\"text-align: right;\">\n",
       "      <th></th>\n",
       "      <th>Store</th>\n",
       "      <th>Dept</th>\n",
       "      <th>Date</th>\n",
       "      <th>Weekly_Sales</th>\n",
       "      <th>IsHoliday</th>\n",
       "      <th>Temperature</th>\n",
       "      <th>Fuel_Price</th>\n",
       "      <th>MarkDown1</th>\n",
       "      <th>MarkDown2</th>\n",
       "      <th>MarkDown3</th>\n",
       "      <th>MarkDown4</th>\n",
       "      <th>MarkDown5</th>\n",
       "      <th>CPI</th>\n",
       "      <th>Unemployment</th>\n",
       "    </tr>\n",
       "  </thead>\n",
       "  <tbody>\n",
       "    <tr>\n",
       "      <th>0</th>\n",
       "      <td>1</td>\n",
       "      <td>1</td>\n",
       "      <td>2010-02-05</td>\n",
       "      <td>24924.50</td>\n",
       "      <td>False</td>\n",
       "      <td>42.31</td>\n",
       "      <td>2.572</td>\n",
       "      <td>NaN</td>\n",
       "      <td>NaN</td>\n",
       "      <td>NaN</td>\n",
       "      <td>NaN</td>\n",
       "      <td>NaN</td>\n",
       "      <td>211.096358</td>\n",
       "      <td>8.106</td>\n",
       "    </tr>\n",
       "    <tr>\n",
       "      <th>1</th>\n",
       "      <td>1</td>\n",
       "      <td>1</td>\n",
       "      <td>2010-02-12</td>\n",
       "      <td>46039.49</td>\n",
       "      <td>True</td>\n",
       "      <td>38.51</td>\n",
       "      <td>2.548</td>\n",
       "      <td>NaN</td>\n",
       "      <td>NaN</td>\n",
       "      <td>NaN</td>\n",
       "      <td>NaN</td>\n",
       "      <td>NaN</td>\n",
       "      <td>211.242170</td>\n",
       "      <td>8.106</td>\n",
       "    </tr>\n",
       "    <tr>\n",
       "      <th>2</th>\n",
       "      <td>1</td>\n",
       "      <td>1</td>\n",
       "      <td>2010-02-19</td>\n",
       "      <td>41595.55</td>\n",
       "      <td>False</td>\n",
       "      <td>39.93</td>\n",
       "      <td>2.514</td>\n",
       "      <td>NaN</td>\n",
       "      <td>NaN</td>\n",
       "      <td>NaN</td>\n",
       "      <td>NaN</td>\n",
       "      <td>NaN</td>\n",
       "      <td>211.289143</td>\n",
       "      <td>8.106</td>\n",
       "    </tr>\n",
       "    <tr>\n",
       "      <th>3</th>\n",
       "      <td>1</td>\n",
       "      <td>1</td>\n",
       "      <td>2010-02-26</td>\n",
       "      <td>19403.54</td>\n",
       "      <td>False</td>\n",
       "      <td>46.63</td>\n",
       "      <td>2.561</td>\n",
       "      <td>NaN</td>\n",
       "      <td>NaN</td>\n",
       "      <td>NaN</td>\n",
       "      <td>NaN</td>\n",
       "      <td>NaN</td>\n",
       "      <td>211.319643</td>\n",
       "      <td>8.106</td>\n",
       "    </tr>\n",
       "    <tr>\n",
       "      <th>4</th>\n",
       "      <td>1</td>\n",
       "      <td>1</td>\n",
       "      <td>2010-03-05</td>\n",
       "      <td>21827.90</td>\n",
       "      <td>False</td>\n",
       "      <td>46.50</td>\n",
       "      <td>2.625</td>\n",
       "      <td>NaN</td>\n",
       "      <td>NaN</td>\n",
       "      <td>NaN</td>\n",
       "      <td>NaN</td>\n",
       "      <td>NaN</td>\n",
       "      <td>211.350143</td>\n",
       "      <td>8.106</td>\n",
       "    </tr>\n",
       "  </tbody>\n",
       "</table>\n",
       "</div>"
      ],
      "text/plain": [
       "   Store  Dept        Date  Weekly_Sales  IsHoliday  Temperature  Fuel_Price  \\\n",
       "0      1     1  2010-02-05      24924.50      False        42.31       2.572   \n",
       "1      1     1  2010-02-12      46039.49       True        38.51       2.548   \n",
       "2      1     1  2010-02-19      41595.55      False        39.93       2.514   \n",
       "3      1     1  2010-02-26      19403.54      False        46.63       2.561   \n",
       "4      1     1  2010-03-05      21827.90      False        46.50       2.625   \n",
       "\n",
       "   MarkDown1  MarkDown2  MarkDown3  MarkDown4  MarkDown5         CPI  \\\n",
       "0        NaN        NaN        NaN        NaN        NaN  211.096358   \n",
       "1        NaN        NaN        NaN        NaN        NaN  211.242170   \n",
       "2        NaN        NaN        NaN        NaN        NaN  211.289143   \n",
       "3        NaN        NaN        NaN        NaN        NaN  211.319643   \n",
       "4        NaN        NaN        NaN        NaN        NaN  211.350143   \n",
       "\n",
       "   Unemployment  \n",
       "0         8.106  \n",
       "1         8.106  \n",
       "2         8.106  \n",
       "3         8.106  \n",
       "4         8.106  "
      ]
     },
     "execution_count": 12,
     "metadata": {},
     "output_type": "execute_result"
    }
   ],
   "source": [
    "df.head()"
   ]
  },
  {
   "cell_type": "markdown",
   "metadata": {},
   "source": [
    "Let's look at the `store_df` dataframe."
   ]
  },
  {
   "cell_type": "code",
   "execution_count": 13,
   "metadata": {
    "scrolled": true
   },
   "outputs": [
    {
     "data": {
      "text/html": [
       "<div>\n",
       "<style scoped>\n",
       "    .dataframe tbody tr th:only-of-type {\n",
       "        vertical-align: middle;\n",
       "    }\n",
       "\n",
       "    .dataframe tbody tr th {\n",
       "        vertical-align: top;\n",
       "    }\n",
       "\n",
       "    .dataframe thead th {\n",
       "        text-align: right;\n",
       "    }\n",
       "</style>\n",
       "<table border=\"1\" class=\"dataframe\">\n",
       "  <thead>\n",
       "    <tr style=\"text-align: right;\">\n",
       "      <th></th>\n",
       "      <th>Store</th>\n",
       "      <th>Type</th>\n",
       "      <th>Size</th>\n",
       "    </tr>\n",
       "  </thead>\n",
       "  <tbody>\n",
       "    <tr>\n",
       "      <th>1</th>\n",
       "      <td>2</td>\n",
       "      <td>A</td>\n",
       "      <td>202307</td>\n",
       "    </tr>\n",
       "    <tr>\n",
       "      <th>12</th>\n",
       "      <td>13</td>\n",
       "      <td>A</td>\n",
       "      <td>219622</td>\n",
       "    </tr>\n",
       "    <tr>\n",
       "      <th>41</th>\n",
       "      <td>42</td>\n",
       "      <td>C</td>\n",
       "      <td>39690</td>\n",
       "    </tr>\n",
       "    <tr>\n",
       "      <th>32</th>\n",
       "      <td>33</td>\n",
       "      <td>A</td>\n",
       "      <td>39690</td>\n",
       "    </tr>\n",
       "    <tr>\n",
       "      <th>37</th>\n",
       "      <td>38</td>\n",
       "      <td>C</td>\n",
       "      <td>39690</td>\n",
       "    </tr>\n",
       "  </tbody>\n",
       "</table>\n",
       "</div>"
      ],
      "text/plain": [
       "    Store Type    Size\n",
       "1       2    A  202307\n",
       "12     13    A  219622\n",
       "41     42    C   39690\n",
       "32     33    A   39690\n",
       "37     38    C   39690"
      ]
     },
     "execution_count": 13,
     "metadata": {},
     "output_type": "execute_result"
    }
   ],
   "source": [
    "stores_df.sample(5)"
   ]
  },
  {
   "cell_type": "code",
   "execution_count": 14,
   "metadata": {},
   "outputs": [
    {
     "name": "stdout",
     "output_type": "stream",
     "text": [
      "<class 'pandas.core.frame.DataFrame'>\n",
      "RangeIndex: 45 entries, 0 to 44\n",
      "Data columns (total 3 columns):\n",
      "Store    45 non-null int64\n",
      "Type     45 non-null object\n",
      "Size     45 non-null int64\n",
      "dtypes: int64(2), object(1)\n",
      "memory usage: 1.1+ KB\n"
     ]
    }
   ],
   "source": [
    "stores_df.info()"
   ]
  },
  {
   "cell_type": "code",
   "execution_count": 15,
   "metadata": {
    "scrolled": true
   },
   "outputs": [
    {
     "data": {
      "text/plain": [
       "count     45\n",
       "unique     3\n",
       "top        A\n",
       "freq      22\n",
       "Name: Type, dtype: object"
      ]
     },
     "execution_count": 15,
     "metadata": {},
     "output_type": "execute_result"
    }
   ],
   "source": [
    "stores_df['Type'].describe()"
   ]
  },
  {
   "cell_type": "code",
   "execution_count": 16,
   "metadata": {},
   "outputs": [
    {
     "data": {
      "text/plain": [
       "A    22\n",
       "B    17\n",
       "C     6\n",
       "Name: Type, dtype: int64"
      ]
     },
     "execution_count": 16,
     "metadata": {},
     "output_type": "execute_result"
    }
   ],
   "source": [
    "stores_df['Type'].value_counts()"
   ]
  },
  {
   "cell_type": "code",
   "execution_count": 17,
   "metadata": {},
   "outputs": [],
   "source": [
    "s1 = stores_df[stores_df['Type']=='A']['Size'].rename('Size(A)').describe()\n",
    "s2 = stores_df[stores_df['Type']=='B']['Size'].rename('Size(B)').describe()\n",
    "s3 = stores_df[stores_df['Type']=='C']['Size'].rename('Size(C)').describe()"
   ]
  },
  {
   "cell_type": "code",
   "execution_count": 18,
   "metadata": {},
   "outputs": [
    {
     "data": {
      "text/html": [
       "<div>\n",
       "<style scoped>\n",
       "    .dataframe tbody tr th:only-of-type {\n",
       "        vertical-align: middle;\n",
       "    }\n",
       "\n",
       "    .dataframe tbody tr th {\n",
       "        vertical-align: top;\n",
       "    }\n",
       "\n",
       "    .dataframe thead th {\n",
       "        text-align: right;\n",
       "    }\n",
       "</style>\n",
       "<table border=\"1\" class=\"dataframe\">\n",
       "  <thead>\n",
       "    <tr style=\"text-align: right;\">\n",
       "      <th></th>\n",
       "      <th>count</th>\n",
       "      <th>mean</th>\n",
       "      <th>std</th>\n",
       "      <th>min</th>\n",
       "      <th>25%</th>\n",
       "      <th>50%</th>\n",
       "      <th>75%</th>\n",
       "      <th>max</th>\n",
       "    </tr>\n",
       "  </thead>\n",
       "  <tbody>\n",
       "    <tr>\n",
       "      <th>Size(A)</th>\n",
       "      <td>22.0</td>\n",
       "      <td>177247.727273</td>\n",
       "      <td>49392.621098</td>\n",
       "      <td>39690.0</td>\n",
       "      <td>155840.75</td>\n",
       "      <td>202406.0</td>\n",
       "      <td>203819.0</td>\n",
       "      <td>219622.0</td>\n",
       "    </tr>\n",
       "    <tr>\n",
       "      <th>Size(B)</th>\n",
       "      <td>17.0</td>\n",
       "      <td>101190.705882</td>\n",
       "      <td>32371.137916</td>\n",
       "      <td>34875.0</td>\n",
       "      <td>93188.00</td>\n",
       "      <td>114533.0</td>\n",
       "      <td>123737.0</td>\n",
       "      <td>140167.0</td>\n",
       "    </tr>\n",
       "    <tr>\n",
       "      <th>Size(C)</th>\n",
       "      <td>6.0</td>\n",
       "      <td>40541.666667</td>\n",
       "      <td>1304.145033</td>\n",
       "      <td>39690.0</td>\n",
       "      <td>39745.00</td>\n",
       "      <td>39910.0</td>\n",
       "      <td>40774.0</td>\n",
       "      <td>42988.0</td>\n",
       "    </tr>\n",
       "  </tbody>\n",
       "</table>\n",
       "</div>"
      ],
      "text/plain": [
       "         count           mean           std      min        25%       50%  \\\n",
       "Size(A)   22.0  177247.727273  49392.621098  39690.0  155840.75  202406.0   \n",
       "Size(B)   17.0  101190.705882  32371.137916  34875.0   93188.00  114533.0   \n",
       "Size(C)    6.0   40541.666667   1304.145033  39690.0   39745.00   39910.0   \n",
       "\n",
       "              75%       max  \n",
       "Size(A)  203819.0  219622.0  \n",
       "Size(B)  123737.0  140167.0  \n",
       "Size(C)   40774.0   42988.0  "
      ]
     },
     "execution_count": 18,
     "metadata": {},
     "output_type": "execute_result"
    }
   ],
   "source": [
    "pd.DataFrame([s1,s2,s3])"
   ]
  },
  {
   "cell_type": "markdown",
   "metadata": {},
   "source": [
    "On average, companies of type A and B are considerably bigger in size than type C. Let's perform a left join with dataframe `stores_df` on the columns `Store`."
   ]
  },
  {
   "cell_type": "code",
   "execution_count": 19,
   "metadata": {},
   "outputs": [],
   "source": [
    "df = pd.merge(df, stores_df, on = 'Store', how = 'left')"
   ]
  },
  {
   "cell_type": "code",
   "execution_count": 20,
   "metadata": {},
   "outputs": [
    {
     "data": {
      "text/plain": [
       "(421570, 16)"
      ]
     },
     "execution_count": 20,
     "metadata": {},
     "output_type": "execute_result"
    }
   ],
   "source": [
    "df.shape"
   ]
  },
  {
   "cell_type": "code",
   "execution_count": 21,
   "metadata": {},
   "outputs": [
    {
     "data": {
      "text/html": [
       "<div>\n",
       "<style scoped>\n",
       "    .dataframe tbody tr th:only-of-type {\n",
       "        vertical-align: middle;\n",
       "    }\n",
       "\n",
       "    .dataframe tbody tr th {\n",
       "        vertical-align: top;\n",
       "    }\n",
       "\n",
       "    .dataframe thead th {\n",
       "        text-align: right;\n",
       "    }\n",
       "</style>\n",
       "<table border=\"1\" class=\"dataframe\">\n",
       "  <thead>\n",
       "    <tr style=\"text-align: right;\">\n",
       "      <th></th>\n",
       "      <th>Store</th>\n",
       "      <th>Dept</th>\n",
       "      <th>Date</th>\n",
       "      <th>Weekly_Sales</th>\n",
       "      <th>IsHoliday</th>\n",
       "      <th>Temperature</th>\n",
       "      <th>Fuel_Price</th>\n",
       "      <th>MarkDown1</th>\n",
       "      <th>MarkDown2</th>\n",
       "      <th>MarkDown3</th>\n",
       "      <th>MarkDown4</th>\n",
       "      <th>MarkDown5</th>\n",
       "      <th>CPI</th>\n",
       "      <th>Unemployment</th>\n",
       "      <th>Type</th>\n",
       "      <th>Size</th>\n",
       "    </tr>\n",
       "  </thead>\n",
       "  <tbody>\n",
       "    <tr>\n",
       "      <th>0</th>\n",
       "      <td>1</td>\n",
       "      <td>1</td>\n",
       "      <td>2010-02-05</td>\n",
       "      <td>24924.50</td>\n",
       "      <td>False</td>\n",
       "      <td>42.31</td>\n",
       "      <td>2.572</td>\n",
       "      <td>NaN</td>\n",
       "      <td>NaN</td>\n",
       "      <td>NaN</td>\n",
       "      <td>NaN</td>\n",
       "      <td>NaN</td>\n",
       "      <td>211.096358</td>\n",
       "      <td>8.106</td>\n",
       "      <td>A</td>\n",
       "      <td>151315</td>\n",
       "    </tr>\n",
       "    <tr>\n",
       "      <th>1</th>\n",
       "      <td>1</td>\n",
       "      <td>1</td>\n",
       "      <td>2010-02-12</td>\n",
       "      <td>46039.49</td>\n",
       "      <td>True</td>\n",
       "      <td>38.51</td>\n",
       "      <td>2.548</td>\n",
       "      <td>NaN</td>\n",
       "      <td>NaN</td>\n",
       "      <td>NaN</td>\n",
       "      <td>NaN</td>\n",
       "      <td>NaN</td>\n",
       "      <td>211.242170</td>\n",
       "      <td>8.106</td>\n",
       "      <td>A</td>\n",
       "      <td>151315</td>\n",
       "    </tr>\n",
       "    <tr>\n",
       "      <th>2</th>\n",
       "      <td>1</td>\n",
       "      <td>1</td>\n",
       "      <td>2010-02-19</td>\n",
       "      <td>41595.55</td>\n",
       "      <td>False</td>\n",
       "      <td>39.93</td>\n",
       "      <td>2.514</td>\n",
       "      <td>NaN</td>\n",
       "      <td>NaN</td>\n",
       "      <td>NaN</td>\n",
       "      <td>NaN</td>\n",
       "      <td>NaN</td>\n",
       "      <td>211.289143</td>\n",
       "      <td>8.106</td>\n",
       "      <td>A</td>\n",
       "      <td>151315</td>\n",
       "    </tr>\n",
       "    <tr>\n",
       "      <th>3</th>\n",
       "      <td>1</td>\n",
       "      <td>1</td>\n",
       "      <td>2010-02-26</td>\n",
       "      <td>19403.54</td>\n",
       "      <td>False</td>\n",
       "      <td>46.63</td>\n",
       "      <td>2.561</td>\n",
       "      <td>NaN</td>\n",
       "      <td>NaN</td>\n",
       "      <td>NaN</td>\n",
       "      <td>NaN</td>\n",
       "      <td>NaN</td>\n",
       "      <td>211.319643</td>\n",
       "      <td>8.106</td>\n",
       "      <td>A</td>\n",
       "      <td>151315</td>\n",
       "    </tr>\n",
       "    <tr>\n",
       "      <th>4</th>\n",
       "      <td>1</td>\n",
       "      <td>1</td>\n",
       "      <td>2010-03-05</td>\n",
       "      <td>21827.90</td>\n",
       "      <td>False</td>\n",
       "      <td>46.50</td>\n",
       "      <td>2.625</td>\n",
       "      <td>NaN</td>\n",
       "      <td>NaN</td>\n",
       "      <td>NaN</td>\n",
       "      <td>NaN</td>\n",
       "      <td>NaN</td>\n",
       "      <td>211.350143</td>\n",
       "      <td>8.106</td>\n",
       "      <td>A</td>\n",
       "      <td>151315</td>\n",
       "    </tr>\n",
       "  </tbody>\n",
       "</table>\n",
       "</div>"
      ],
      "text/plain": [
       "   Store  Dept        Date  Weekly_Sales  IsHoliday  Temperature  Fuel_Price  \\\n",
       "0      1     1  2010-02-05      24924.50      False        42.31       2.572   \n",
       "1      1     1  2010-02-12      46039.49       True        38.51       2.548   \n",
       "2      1     1  2010-02-19      41595.55      False        39.93       2.514   \n",
       "3      1     1  2010-02-26      19403.54      False        46.63       2.561   \n",
       "4      1     1  2010-03-05      21827.90      False        46.50       2.625   \n",
       "\n",
       "   MarkDown1  MarkDown2  MarkDown3  MarkDown4  MarkDown5         CPI  \\\n",
       "0        NaN        NaN        NaN        NaN        NaN  211.096358   \n",
       "1        NaN        NaN        NaN        NaN        NaN  211.242170   \n",
       "2        NaN        NaN        NaN        NaN        NaN  211.289143   \n",
       "3        NaN        NaN        NaN        NaN        NaN  211.319643   \n",
       "4        NaN        NaN        NaN        NaN        NaN  211.350143   \n",
       "\n",
       "   Unemployment Type    Size  \n",
       "0         8.106    A  151315  \n",
       "1         8.106    A  151315  \n",
       "2         8.106    A  151315  \n",
       "3         8.106    A  151315  \n",
       "4         8.106    A  151315  "
      ]
     },
     "execution_count": 21,
     "metadata": {},
     "output_type": "execute_result"
    }
   ],
   "source": [
    "df.head()"
   ]
  },
  {
   "cell_type": "markdown",
   "metadata": {},
   "source": [
    "Before we start exploring the data we would like to convert the date entries into datetime objects. `pandas` has a builtin method that can do this for us."
   ]
  },
  {
   "cell_type": "code",
   "execution_count": 22,
   "metadata": {},
   "outputs": [],
   "source": [
    "df['Date'] = pd.to_datetime(df['Date'])\n",
    "features_df['Date'] = pd.to_datetime(features_df['Date'])"
   ]
  },
  {
   "cell_type": "markdown",
   "metadata": {},
   "source": [
    "Now it is of the datatype we want."
   ]
  },
  {
   "cell_type": "code",
   "execution_count": 23,
   "metadata": {
    "scrolled": false
   },
   "outputs": [
    {
     "data": {
      "text/plain": [
       "count                  421570\n",
       "unique                    143\n",
       "top       2011-12-23 00:00:00\n",
       "freq                     3027\n",
       "first     2010-02-05 00:00:00\n",
       "last      2012-10-26 00:00:00\n",
       "Name: Date, dtype: object"
      ]
     },
     "execution_count": 23,
     "metadata": {},
     "output_type": "execute_result"
    }
   ],
   "source": [
    "df['Date'].describe()"
   ]
  },
  {
   "cell_type": "code",
   "execution_count": 24,
   "metadata": {},
   "outputs": [
    {
     "data": {
      "text/plain": [
       "count                    8190\n",
       "unique                    182\n",
       "top       2011-07-15 00:00:00\n",
       "freq                       45\n",
       "first     2010-02-05 00:00:00\n",
       "last      2013-07-26 00:00:00\n",
       "Name: Date, dtype: object"
      ]
     },
     "execution_count": 24,
     "metadata": {},
     "output_type": "execute_result"
    }
   ],
   "source": [
    "features_df['Date'].describe()"
   ]
  },
  {
   "cell_type": "markdown",
   "metadata": {},
   "source": [
    "Now we have all our features organized in one dataframe. We will go ahead and start the EDA phase."
   ]
  },
  {
   "cell_type": "markdown",
   "metadata": {},
   "source": [
    "## Data Exploration"
   ]
  },
  {
   "cell_type": "markdown",
   "metadata": {},
   "source": [
    "We first look at distribution of sales for certain predictors. But first, let's look at the overall distribution."
   ]
  },
  {
   "cell_type": "code",
   "execution_count": 25,
   "metadata": {},
   "outputs": [],
   "source": [
    "import matplotlib.pyplot as plt\n",
    "%matplotlib inline"
   ]
  },
  {
   "cell_type": "code",
   "execution_count": 26,
   "metadata": {},
   "outputs": [
    {
     "data": {
      "image/png": "[encoded data removed]",
      "text/plain": [
       "<Figure size 432x288 with 1 Axes>"
      ]
     },
     "metadata": {
      "needs_background": "light"
     },
     "output_type": "display_data"
    }
   ],
   "source": [
    "plt.hist(df['Weekly_Sales'], density = True, bins = 50)\n",
    "plt.xlabel('Weekly Sale')\n",
    "plt.ylabel('Frequency')\n",
    "plt.title('Overall Sales')\n",
    "\n",
    "plt.show()"
   ]
  },
  {
   "cell_type": "markdown",
   "metadata": {},
   "source": [
    "Although we might not be able to see some values near 700000, there are sales that occured near that mark. To illustrate that point we can compute the max weekly sales as shown below."
   ]
  },
  {
   "cell_type": "code",
   "execution_count": 27,
   "metadata": {},
   "outputs": [
    {
     "data": {
      "text/plain": [
       "693099.36"
      ]
     },
     "execution_count": 27,
     "metadata": {},
     "output_type": "execute_result"
    }
   ],
   "source": [
    "max(df['Weekly_Sales'])"
   ]
  },
  {
   "cell_type": "markdown",
   "metadata": {},
   "source": [
    "Notice we also have negative sales. When we fit our model we will experiment whether to include negative sales or not."
   ]
  },
  {
   "cell_type": "code",
   "execution_count": 28,
   "metadata": {
    "scrolled": true
   },
   "outputs": [
    {
     "data": {
      "text/plain": [
       "(1285, 16)"
      ]
     },
     "execution_count": 28,
     "metadata": {},
     "output_type": "execute_result"
    }
   ],
   "source": [
    "df[df['Weekly_Sales']<0].shape"
   ]
  },
  {
   "cell_type": "markdown",
   "metadata": {},
   "source": [
    "### Holiday vs. Non-Holiday"
   ]
  },
  {
   "cell_type": "markdown",
   "metadata": {},
   "source": [
    "Now let's see if there is any change in distribution between holidays versus non-holiday weekly sales."
   ]
  },
  {
   "cell_type": "code",
   "execution_count": 29,
   "metadata": {},
   "outputs": [],
   "source": [
    "df_holiday = df[df['IsHoliday'] == True]\n",
    "df_non_holiday = df[df['IsHoliday'] == False]"
   ]
  },
  {
   "cell_type": "code",
   "execution_count": 30,
   "metadata": {},
   "outputs": [],
   "source": [
    "def plot_hist(int_min = 0, int_max = 100000):\n",
    "    df1 = df_holiday\n",
    "    df2 = df_non_holiday\n",
    "    \n",
    "    plt.hist(df1['Weekly_Sales'][(df1['Weekly_Sales'] > int_min) & (df1['Weekly_Sales'] <int_max)], \n",
    "             bins = 50, alpha = 0.5, label = 'Holiday')\n",
    "    plt.hist(df2['Weekly_Sales'][(df2['Weekly_Sales'] > int_min) & (df2['Weekly_Sales'] <int_max)],\n",
    "             bins = 50, alpha = 0.5, label = 'non-Holiday')\n",
    "    plt.xlabel('Weekly Sale')\n",
    "    plt.ylabel('Frequency')\n",
    "    plt.title('Weekly Sales in the range [{},{}]'.format(int_min, int_max))\n",
    "    plt.legend(loc = \"upper right\")\n",
    "\n",
    "    plt.show()\n",
    "    "
   ]
  },
  {
   "cell_type": "code",
   "execution_count": 31,
   "metadata": {
    "scrolled": false
   },
   "outputs": [
    {
     "data": {
      "image/png": "[encoded data removed]",
      "text/plain": [
       "<Figure size 432x288 with 1 Axes>"
      ]
     },
     "metadata": {
      "needs_background": "light"
     },
     "output_type": "display_data"
    }
   ],
   "source": [
    "plot_hist(0,700000)"
   ]
  },
  {
   "cell_type": "markdown",
   "metadata": {},
   "source": [
    "It's quite hard to see the difference here because of the heavy right skew of the distribution. We can fix this by plotting two histograms based on a cutoff at 100000."
   ]
  },
  {
   "cell_type": "code",
   "execution_count": 32,
   "metadata": {},
   "outputs": [
    {
     "data": {
      "image/png": "[encoded data removed]",
      "text/plain": [
       "<Figure size 432x288 with 1 Axes>"
      ]
     },
     "metadata": {
      "needs_background": "light"
     },
     "output_type": "display_data"
    }
   ],
   "source": [
    "plot_hist(100000,700000)"
   ]
  },
  {
   "cell_type": "markdown",
   "metadata": {},
   "source": [
    "Weekly sales below 200000 are quite common for both non-Holiday and Holiday weeks. Let's look at sales 200000 and greater."
   ]
  },
  {
   "cell_type": "code",
   "execution_count": 33,
   "metadata": {},
   "outputs": [
    {
     "data": {
      "image/png": "[encoded data removed]",
      "text/plain": [
       "<Figure size 432x288 with 1 Axes>"
      ]
     },
     "metadata": {
      "needs_background": "light"
     },
     "output_type": "display_data"
    }
   ],
   "source": [
    "plot_hist(200000, 700000)"
   ]
  },
  {
   "cell_type": "markdown",
   "metadata": {},
   "source": [
    "We can clearly see that high weekly sales (i.e. 300000 or more) occur during Holiday weeks. "
   ]
  },
  {
   "cell_type": "markdown",
   "metadata": {},
   "source": [
    "### Sales by Store"
   ]
  },
  {
   "cell_type": "markdown",
   "metadata": {},
   "source": [
    "We want to see if any store feature has a correlation with weekly sales. Starting with store number (which intuitively won't have any relationship with high or low weekly sales but we will plot a bar graph to illustrate this point; that is, store is a categorical variable). Then, we will group by variables `type` and `size` to see how the average weekly sales amount changes."
   ]
  },
  {
   "cell_type": "code",
   "execution_count": 36,
   "metadata": {},
   "outputs": [],
   "source": [
    "def plot_by_store(col = 'Store'):\n",
    "    \n",
    "    my_df = pd.DataFrame()\n",
    "    my_df = df.groupby(col).mean().reset_index()    \n",
    "    \n",
    "    plt.bar(my_df[col], my_df['Weekly_Sales'])\n",
    "    plt.xlabel(col)\n",
    "    plt.ylabel('Average Weekly Sales')\n",
    "\n",
    "    plt.show()"
   ]
  },
  {
   "cell_type": "code",
   "execution_count": 37,
   "metadata": {},
   "outputs": [
    {
     "data": {
      "image/png": "[encoded data removed]",
      "text/plain": [
       "<Figure size 432x288 with 1 Axes>"
      ]
     },
     "metadata": {
      "needs_background": "light"
     },
     "output_type": "display_data"
    }
   ],
   "source": [
    "plot_by_store()"
   ]
  },
  {
   "cell_type": "markdown",
   "metadata": {},
   "source": [
    "There is no clear correlation between average weekly sales and store number. Instead, we can take store size and type to see if there is any."
   ]
  },
  {
   "cell_type": "code",
   "execution_count": 38,
   "metadata": {
    "scrolled": true
   },
   "outputs": [
    {
     "data": {
      "image/png": "[encoded data removed]",
      "text/plain": [
       "<Figure size 432x288 with 1 Axes>"
      ]
     },
     "metadata": {
      "needs_background": "light"
     },
     "output_type": "display_data"
    }
   ],
   "source": [
    "plot_by_store('Type')"
   ]
  },
  {
   "cell_type": "markdown",
   "metadata": {},
   "source": [
    "As we saw earlier a dtermining factor of store type is size with type `A` having the highest average store size and `C` having the lowest. We confirm this by graphing a scatter plot of mean weekly sales by store size."
   ]
  },
  {
   "cell_type": "code",
   "execution_count": 39,
   "metadata": {},
   "outputs": [],
   "source": [
    "my_df = df.groupby('Size').mean().reset_index()  "
   ]
  },
  {
   "cell_type": "code",
   "execution_count": 40,
   "metadata": {},
   "outputs": [
    {
     "data": {
      "image/png": "[encoded data removed]",
      "text/plain": [
       "<Figure size 432x288 with 1 Axes>"
      ]
     },
     "metadata": {
      "needs_background": "light"
     },
     "output_type": "display_data"
    }
   ],
   "source": [
    "plt.scatter(my_df['Size'], my_df['Weekly_Sales'])\n",
    "plt.xlabel('Size')\n",
    "plt.ylabel('Average Weekly Sales')\n",
    "\n",
    "plt.show()"
   ]
  },
  {
   "cell_type": "markdown",
   "metadata": {},
   "source": [
    "The two plots above show that `Type` and `Size` encapsulate the influence of store number in our models. So we may safely drop the field `Store`."
   ]
  },
  {
   "cell_type": "markdown",
   "metadata": {},
   "source": [
    "### Helper Functions"
   ]
  },
  {
   "cell_type": "code",
   "execution_count": 41,
   "metadata": {},
   "outputs": [],
   "source": [
    "def plot_by(col = 'Date', rotation = 70):\n",
    "    \n",
    "    my_df = pd.DataFrame()\n",
    "    my_df = df.groupby(col).mean().reset_index()    \n",
    "    \n",
    "    plt.scatter(my_df[col], my_df['Weekly_Sales'])\n",
    "    plt.xlabel(col)\n",
    "    plt.ylabel('Average Weekly Sales')\n",
    "\n",
    "    plt.xticks(rotation=rotation)\n",
    "    \n",
    "    plt.show()"
   ]
  },
  {
   "cell_type": "code",
   "execution_count": 42,
   "metadata": {},
   "outputs": [],
   "source": [
    "def plot_store(store = 1, x = 'Date', rotation = 70):\n",
    "    \n",
    "      \n",
    "    my_df = df[df['Store'] == store].groupby(x).mean().reset_index()    \n",
    "\n",
    "    \n",
    "    plt.scatter(my_df[x], my_df['Weekly_Sales'])\n",
    "    \n",
    "    plt.xlabel(x)\n",
    "    plt.ylabel('Average Weekly Sales')\n",
    "    plt.xticks(rotation = rotation)\n",
    "    plt.title('Store {}'.format(store))\n",
    "    \n",
    "    plt.show()"
   ]
  },
  {
   "cell_type": "markdown",
   "metadata": {},
   "source": [
    "### Sales by Date"
   ]
  },
  {
   "cell_type": "code",
   "execution_count": 43,
   "metadata": {
    "scrolled": true
   },
   "outputs": [
    {
     "data": {
      "image/png": "[encoded data removed]",
      "text/plain": [
       "<Figure size 432x288 with 1 Axes>"
      ]
     },
     "metadata": {
      "needs_background": "light"
     },
     "output_type": "display_data"
    }
   ],
   "source": [
    "plot_by()"
   ]
  },
  {
   "cell_type": "markdown",
   "metadata": {},
   "source": [
    "Let's check which dates correspond to these huge mean weekly sales that are above 18000."
   ]
  },
  {
   "cell_type": "code",
   "execution_count": 44,
   "metadata": {},
   "outputs": [
    {
     "data": {
      "text/plain": [
       "42   2010-11-26\n",
       "44   2010-12-10\n",
       "45   2010-12-17\n",
       "46   2010-12-24\n",
       "94   2011-11-25\n",
       "96   2011-12-09\n",
       "97   2011-12-16\n",
       "98   2011-12-23\n",
       "Name: Date, dtype: datetime64[ns]"
      ]
     },
     "execution_count": 44,
     "metadata": {},
     "output_type": "execute_result"
    }
   ],
   "source": [
    "my_df = df.groupby('Date').mean().reset_index()    \n",
    "\n",
    "my_df[my_df['Weekly_Sales']>18000]['Date']"
   ]
  },
  {
   "cell_type": "markdown",
   "metadata": {},
   "source": [
    "We notice dates that correspond to Black friday in November and the rest of the dates happen to be before Christmas. So it would be safe to say year-end holidays drive a huge amount of sales at Walmart."
   ]
  },
  {
   "cell_type": "code",
   "execution_count": 45,
   "metadata": {},
   "outputs": [
    {
     "data": {
      "text/plain": [
       "46   2010-12-24\n",
       "98   2011-12-23\n",
       "Name: Date, dtype: datetime64[ns]"
      ]
     },
     "execution_count": 45,
     "metadata": {},
     "output_type": "execute_result"
    }
   ],
   "source": [
    "my_df[my_df['Weekly_Sales']>24000]['Date']"
   ]
  },
  {
   "cell_type": "markdown",
   "metadata": {},
   "source": [
    "Can we find nonzero markdown fields during these dates?"
   ]
  },
  {
   "cell_type": "code",
   "execution_count": 48,
   "metadata": {},
   "outputs": [],
   "source": [
    "import datetime\n",
    "\n",
    "def convert_datetime(date_time_str):\n",
    "    '''\n",
    "        argument format should be %d/%m/%Y (i.e. '10/11/2011')\n",
    "    '''\n",
    "    return datetime.datetime.strptime(date_time_str, '%d/%m/%Y')\n"
   ]
  },
  {
   "cell_type": "code",
   "execution_count": 49,
   "metadata": {},
   "outputs": [
    {
     "data": {
      "text/plain": [
       "datetime.datetime(2011, 11, 10, 0, 0)"
      ]
     },
     "execution_count": 49,
     "metadata": {},
     "output_type": "execute_result"
    }
   ],
   "source": [
    "convert_datetime('10/11/2011')\n"
   ]
  },
  {
   "cell_type": "code",
   "execution_count": 51,
   "metadata": {},
   "outputs": [
    {
     "data": {
      "text/html": [
       "<div>\n",
       "<style scoped>\n",
       "    .dataframe tbody tr th:only-of-type {\n",
       "        vertical-align: middle;\n",
       "    }\n",
       "\n",
       "    .dataframe tbody tr th {\n",
       "        vertical-align: top;\n",
       "    }\n",
       "\n",
       "    .dataframe thead th {\n",
       "        text-align: right;\n",
       "    }\n",
       "</style>\n",
       "<table border=\"1\" class=\"dataframe\">\n",
       "  <thead>\n",
       "    <tr style=\"text-align: right;\">\n",
       "      <th></th>\n",
       "      <th>Store</th>\n",
       "      <th>Date</th>\n",
       "      <th>Temperature</th>\n",
       "      <th>Fuel_Price</th>\n",
       "      <th>MarkDown1</th>\n",
       "      <th>MarkDown2</th>\n",
       "      <th>MarkDown3</th>\n",
       "      <th>MarkDown4</th>\n",
       "      <th>MarkDown5</th>\n",
       "      <th>CPI</th>\n",
       "      <th>Unemployment</th>\n",
       "      <th>IsHoliday</th>\n",
       "    </tr>\n",
       "  </thead>\n",
       "  <tbody>\n",
       "    <tr>\n",
       "      <th>93</th>\n",
       "      <td>1</td>\n",
       "      <td>2011-11-18</td>\n",
       "      <td>62.25</td>\n",
       "      <td>3.308</td>\n",
       "      <td>6074.12</td>\n",
       "      <td>254.39</td>\n",
       "      <td>51.98</td>\n",
       "      <td>427.39</td>\n",
       "      <td>5988.57</td>\n",
       "      <td>218.220509</td>\n",
       "      <td>7.866</td>\n",
       "      <td>False</td>\n",
       "    </tr>\n",
       "    <tr>\n",
       "      <th>94</th>\n",
       "      <td>1</td>\n",
       "      <td>2011-11-25</td>\n",
       "      <td>60.14</td>\n",
       "      <td>3.236</td>\n",
       "      <td>410.31</td>\n",
       "      <td>98.00</td>\n",
       "      <td>55805.51</td>\n",
       "      <td>8.00</td>\n",
       "      <td>554.92</td>\n",
       "      <td>218.467621</td>\n",
       "      <td>7.866</td>\n",
       "      <td>True</td>\n",
       "    </tr>\n",
       "    <tr>\n",
       "      <th>95</th>\n",
       "      <td>1</td>\n",
       "      <td>2011-12-02</td>\n",
       "      <td>48.91</td>\n",
       "      <td>3.172</td>\n",
       "      <td>5629.51</td>\n",
       "      <td>68.00</td>\n",
       "      <td>1398.11</td>\n",
       "      <td>2084.64</td>\n",
       "      <td>20475.32</td>\n",
       "      <td>218.714733</td>\n",
       "      <td>7.866</td>\n",
       "      <td>False</td>\n",
       "    </tr>\n",
       "    <tr>\n",
       "      <th>96</th>\n",
       "      <td>1</td>\n",
       "      <td>2011-12-09</td>\n",
       "      <td>43.93</td>\n",
       "      <td>3.158</td>\n",
       "      <td>4640.65</td>\n",
       "      <td>19.00</td>\n",
       "      <td>105.02</td>\n",
       "      <td>3639.42</td>\n",
       "      <td>14461.82</td>\n",
       "      <td>218.961846</td>\n",
       "      <td>7.866</td>\n",
       "      <td>False</td>\n",
       "    </tr>\n",
       "    <tr>\n",
       "      <th>97</th>\n",
       "      <td>1</td>\n",
       "      <td>2011-12-16</td>\n",
       "      <td>51.63</td>\n",
       "      <td>3.159</td>\n",
       "      <td>5011.32</td>\n",
       "      <td>67.00</td>\n",
       "      <td>347.37</td>\n",
       "      <td>225.79</td>\n",
       "      <td>4011.37</td>\n",
       "      <td>219.179453</td>\n",
       "      <td>7.866</td>\n",
       "      <td>False</td>\n",
       "    </tr>\n",
       "    <tr>\n",
       "      <th>98</th>\n",
       "      <td>1</td>\n",
       "      <td>2011-12-23</td>\n",
       "      <td>47.96</td>\n",
       "      <td>3.112</td>\n",
       "      <td>2725.36</td>\n",
       "      <td>40.48</td>\n",
       "      <td>634.70</td>\n",
       "      <td>24.90</td>\n",
       "      <td>2739.43</td>\n",
       "      <td>219.357722</td>\n",
       "      <td>7.866</td>\n",
       "      <td>False</td>\n",
       "    </tr>\n",
       "    <tr>\n",
       "      <th>99</th>\n",
       "      <td>1</td>\n",
       "      <td>2011-12-30</td>\n",
       "      <td>44.55</td>\n",
       "      <td>3.129</td>\n",
       "      <td>5762.10</td>\n",
       "      <td>46011.38</td>\n",
       "      <td>260.36</td>\n",
       "      <td>983.65</td>\n",
       "      <td>4735.78</td>\n",
       "      <td>219.535990</td>\n",
       "      <td>7.866</td>\n",
       "      <td>True</td>\n",
       "    </tr>\n",
       "    <tr>\n",
       "      <th>275</th>\n",
       "      <td>2</td>\n",
       "      <td>2011-11-18</td>\n",
       "      <td>62.01</td>\n",
       "      <td>3.308</td>\n",
       "      <td>6490.92</td>\n",
       "      <td>1217.76</td>\n",
       "      <td>152.12</td>\n",
       "      <td>873.82</td>\n",
       "      <td>7656.42</td>\n",
       "      <td>217.867022</td>\n",
       "      <td>7.441</td>\n",
       "      <td>False</td>\n",
       "    </tr>\n",
       "    <tr>\n",
       "      <th>276</th>\n",
       "      <td>2</td>\n",
       "      <td>2011-11-25</td>\n",
       "      <td>56.36</td>\n",
       "      <td>3.236</td>\n",
       "      <td>919.71</td>\n",
       "      <td>62.00</td>\n",
       "      <td>77451.26</td>\n",
       "      <td>23.00</td>\n",
       "      <td>1589.43</td>\n",
       "      <td>218.113027</td>\n",
       "      <td>7.441</td>\n",
       "      <td>True</td>\n",
       "    </tr>\n",
       "    <tr>\n",
       "      <th>277</th>\n",
       "      <td>2</td>\n",
       "      <td>2011-12-02</td>\n",
       "      <td>48.74</td>\n",
       "      <td>3.172</td>\n",
       "      <td>8010.99</td>\n",
       "      <td>83.47</td>\n",
       "      <td>1897.27</td>\n",
       "      <td>4444.00</td>\n",
       "      <td>28238.93</td>\n",
       "      <td>218.359032</td>\n",
       "      <td>7.441</td>\n",
       "      <td>False</td>\n",
       "    </tr>\n",
       "    <tr>\n",
       "      <th>278</th>\n",
       "      <td>2</td>\n",
       "      <td>2011-12-09</td>\n",
       "      <td>41.76</td>\n",
       "      <td>3.158</td>\n",
       "      <td>11472.59</td>\n",
       "      <td>40.00</td>\n",
       "      <td>306.43</td>\n",
       "      <td>4160.55</td>\n",
       "      <td>8899.08</td>\n",
       "      <td>218.605037</td>\n",
       "      <td>7.441</td>\n",
       "      <td>False</td>\n",
       "    </tr>\n",
       "    <tr>\n",
       "      <th>279</th>\n",
       "      <td>2</td>\n",
       "      <td>2011-12-16</td>\n",
       "      <td>50.13</td>\n",
       "      <td>3.159</td>\n",
       "      <td>4908.83</td>\n",
       "      <td>61.03</td>\n",
       "      <td>341.49</td>\n",
       "      <td>469.80</td>\n",
       "      <td>4744.27</td>\n",
       "      <td>218.821793</td>\n",
       "      <td>7.441</td>\n",
       "      <td>False</td>\n",
       "    </tr>\n",
       "    <tr>\n",
       "      <th>280</th>\n",
       "      <td>2</td>\n",
       "      <td>2011-12-23</td>\n",
       "      <td>46.66</td>\n",
       "      <td>3.112</td>\n",
       "      <td>2971.04</td>\n",
       "      <td>15.18</td>\n",
       "      <td>1501.75</td>\n",
       "      <td>88.76</td>\n",
       "      <td>6437.61</td>\n",
       "      <td>218.999550</td>\n",
       "      <td>7.441</td>\n",
       "      <td>False</td>\n",
       "    </tr>\n",
       "    <tr>\n",
       "      <th>281</th>\n",
       "      <td>2</td>\n",
       "      <td>2011-12-30</td>\n",
       "      <td>44.57</td>\n",
       "      <td>3.129</td>\n",
       "      <td>8321.44</td>\n",
       "      <td>92523.94</td>\n",
       "      <td>139.53</td>\n",
       "      <td>1515.40</td>\n",
       "      <td>3027.69</td>\n",
       "      <td>219.177306</td>\n",
       "      <td>7.441</td>\n",
       "      <td>True</td>\n",
       "    </tr>\n",
       "    <tr>\n",
       "      <th>457</th>\n",
       "      <td>3</td>\n",
       "      <td>2011-11-18</td>\n",
       "      <td>63.91</td>\n",
       "      <td>3.308</td>\n",
       "      <td>1383.53</td>\n",
       "      <td>23.27</td>\n",
       "      <td>19.95</td>\n",
       "      <td>865.09</td>\n",
       "      <td>2926.05</td>\n",
       "      <td>221.643285</td>\n",
       "      <td>7.197</td>\n",
       "      <td>False</td>\n",
       "    </tr>\n",
       "    <tr>\n",
       "      <th>458</th>\n",
       "      <td>3</td>\n",
       "      <td>2011-11-25</td>\n",
       "      <td>68.00</td>\n",
       "      <td>3.236</td>\n",
       "      <td>41.74</td>\n",
       "      <td>10.47</td>\n",
       "      <td>37612.74</td>\n",
       "      <td>NaN</td>\n",
       "      <td>135.16</td>\n",
       "      <td>221.901118</td>\n",
       "      <td>7.197</td>\n",
       "      <td>True</td>\n",
       "    </tr>\n",
       "    <tr>\n",
       "      <th>459</th>\n",
       "      <td>3</td>\n",
       "      <td>2011-12-02</td>\n",
       "      <td>54.97</td>\n",
       "      <td>3.172</td>\n",
       "      <td>850.86</td>\n",
       "      <td>18.94</td>\n",
       "      <td>781.71</td>\n",
       "      <td>394.29</td>\n",
       "      <td>7297.10</td>\n",
       "      <td>222.158952</td>\n",
       "      <td>7.197</td>\n",
       "      <td>False</td>\n",
       "    </tr>\n",
       "    <tr>\n",
       "      <th>460</th>\n",
       "      <td>3</td>\n",
       "      <td>2011-12-09</td>\n",
       "      <td>49.26</td>\n",
       "      <td>3.158</td>\n",
       "      <td>4059.38</td>\n",
       "      <td>6.47</td>\n",
       "      <td>123.42</td>\n",
       "      <td>833.44</td>\n",
       "      <td>3018.08</td>\n",
       "      <td>222.416785</td>\n",
       "      <td>7.197</td>\n",
       "      <td>False</td>\n",
       "    </tr>\n",
       "    <tr>\n",
       "      <th>461</th>\n",
       "      <td>3</td>\n",
       "      <td>2011-12-16</td>\n",
       "      <td>57.95</td>\n",
       "      <td>3.159</td>\n",
       "      <td>1864.61</td>\n",
       "      <td>NaN</td>\n",
       "      <td>170.36</td>\n",
       "      <td>187.42</td>\n",
       "      <td>1500.38</td>\n",
       "      <td>222.642642</td>\n",
       "      <td>7.197</td>\n",
       "      <td>False</td>\n",
       "    </tr>\n",
       "    <tr>\n",
       "      <th>462</th>\n",
       "      <td>3</td>\n",
       "      <td>2011-12-23</td>\n",
       "      <td>53.41</td>\n",
       "      <td>3.112</td>\n",
       "      <td>89.98</td>\n",
       "      <td>0.24</td>\n",
       "      <td>411.52</td>\n",
       "      <td>NaN</td>\n",
       "      <td>586.66</td>\n",
       "      <td>222.825863</td>\n",
       "      <td>7.197</td>\n",
       "      <td>False</td>\n",
       "    </tr>\n",
       "    <tr>\n",
       "      <th>463</th>\n",
       "      <td>3</td>\n",
       "      <td>2011-12-30</td>\n",
       "      <td>48.29</td>\n",
       "      <td>3.129</td>\n",
       "      <td>1449.16</td>\n",
       "      <td>14356.07</td>\n",
       "      <td>66.66</td>\n",
       "      <td>81.43</td>\n",
       "      <td>777.35</td>\n",
       "      <td>223.009084</td>\n",
       "      <td>7.197</td>\n",
       "      <td>True</td>\n",
       "    </tr>\n",
       "    <tr>\n",
       "      <th>639</th>\n",
       "      <td>4</td>\n",
       "      <td>2011-11-18</td>\n",
       "      <td>50.44</td>\n",
       "      <td>3.294</td>\n",
       "      <td>4539.94</td>\n",
       "      <td>840.56</td>\n",
       "      <td>372.90</td>\n",
       "      <td>613.96</td>\n",
       "      <td>5358.13</td>\n",
       "      <td>129.826833</td>\n",
       "      <td>5.143</td>\n",
       "      <td>False</td>\n",
       "    </tr>\n",
       "    <tr>\n",
       "      <th>640</th>\n",
       "      <td>4</td>\n",
       "      <td>2011-11-25</td>\n",
       "      <td>47.96</td>\n",
       "      <td>3.225</td>\n",
       "      <td>561.45</td>\n",
       "      <td>137.88</td>\n",
       "      <td>83340.33</td>\n",
       "      <td>44.04</td>\n",
       "      <td>9239.23</td>\n",
       "      <td>129.836400</td>\n",
       "      <td>5.143</td>\n",
       "      <td>True</td>\n",
       "    </tr>\n",
       "    <tr>\n",
       "      <th>641</th>\n",
       "      <td>4</td>\n",
       "      <td>2011-12-02</td>\n",
       "      <td>38.71</td>\n",
       "      <td>3.176</td>\n",
       "      <td>9762.39</td>\n",
       "      <td>160.94</td>\n",
       "      <td>2260.29</td>\n",
       "      <td>4767.86</td>\n",
       "      <td>28604.20</td>\n",
       "      <td>129.845967</td>\n",
       "      <td>5.143</td>\n",
       "      <td>False</td>\n",
       "    </tr>\n",
       "    <tr>\n",
       "      <th>642</th>\n",
       "      <td>4</td>\n",
       "      <td>2011-12-09</td>\n",
       "      <td>31.64</td>\n",
       "      <td>3.153</td>\n",
       "      <td>5857.72</td>\n",
       "      <td>30.00</td>\n",
       "      <td>984.98</td>\n",
       "      <td>4692.50</td>\n",
       "      <td>13503.99</td>\n",
       "      <td>129.855533</td>\n",
       "      <td>5.143</td>\n",
       "      <td>False</td>\n",
       "    </tr>\n",
       "    <tr>\n",
       "      <th>643</th>\n",
       "      <td>4</td>\n",
       "      <td>2011-12-16</td>\n",
       "      <td>36.44</td>\n",
       "      <td>3.149</td>\n",
       "      <td>2756.67</td>\n",
       "      <td>72.30</td>\n",
       "      <td>1790.15</td>\n",
       "      <td>777.65</td>\n",
       "      <td>10261.95</td>\n",
       "      <td>129.898065</td>\n",
       "      <td>5.143</td>\n",
       "      <td>False</td>\n",
       "    </tr>\n",
       "    <tr>\n",
       "      <th>644</th>\n",
       "      <td>4</td>\n",
       "      <td>2011-12-23</td>\n",
       "      <td>35.92</td>\n",
       "      <td>3.103</td>\n",
       "      <td>2461.94</td>\n",
       "      <td>69.05</td>\n",
       "      <td>2938.24</td>\n",
       "      <td>52.00</td>\n",
       "      <td>4396.76</td>\n",
       "      <td>129.984548</td>\n",
       "      <td>5.143</td>\n",
       "      <td>False</td>\n",
       "    </tr>\n",
       "    <tr>\n",
       "      <th>645</th>\n",
       "      <td>4</td>\n",
       "      <td>2011-12-30</td>\n",
       "      <td>36.89</td>\n",
       "      <td>3.119</td>\n",
       "      <td>3496.13</td>\n",
       "      <td>72413.71</td>\n",
       "      <td>399.77</td>\n",
       "      <td>776.26</td>\n",
       "      <td>5012.53</td>\n",
       "      <td>130.071032</td>\n",
       "      <td>5.143</td>\n",
       "      <td>True</td>\n",
       "    </tr>\n",
       "    <tr>\n",
       "      <th>821</th>\n",
       "      <td>5</td>\n",
       "      <td>2011-11-18</td>\n",
       "      <td>64.33</td>\n",
       "      <td>3.308</td>\n",
       "      <td>952.21</td>\n",
       "      <td>116.11</td>\n",
       "      <td>95.01</td>\n",
       "      <td>295.13</td>\n",
       "      <td>4368.45</td>\n",
       "      <td>218.793912</td>\n",
       "      <td>6.300</td>\n",
       "      <td>False</td>\n",
       "    </tr>\n",
       "    <tr>\n",
       "      <th>822</th>\n",
       "      <td>5</td>\n",
       "      <td>2011-11-25</td>\n",
       "      <td>61.93</td>\n",
       "      <td>3.236</td>\n",
       "      <td>107.42</td>\n",
       "      <td>7.00</td>\n",
       "      <td>29333.06</td>\n",
       "      <td>8.00</td>\n",
       "      <td>826.06</td>\n",
       "      <td>219.042820</td>\n",
       "      <td>6.300</td>\n",
       "      <td>True</td>\n",
       "    </tr>\n",
       "    <tr>\n",
       "      <th>...</th>\n",
       "      <td>...</td>\n",
       "      <td>...</td>\n",
       "      <td>...</td>\n",
       "      <td>...</td>\n",
       "      <td>...</td>\n",
       "      <td>...</td>\n",
       "      <td>...</td>\n",
       "      <td>...</td>\n",
       "      <td>...</td>\n",
       "      <td>...</td>\n",
       "      <td>...</td>\n",
       "      <td>...</td>\n",
       "    </tr>\n",
       "    <tr>\n",
       "      <th>7378</th>\n",
       "      <td>41</td>\n",
       "      <td>2011-12-23</td>\n",
       "      <td>25.59</td>\n",
       "      <td>3.173</td>\n",
       "      <td>1284.19</td>\n",
       "      <td>30.33</td>\n",
       "      <td>1059.90</td>\n",
       "      <td>35.76</td>\n",
       "      <td>3430.56</td>\n",
       "      <td>196.171389</td>\n",
       "      <td>6.759</td>\n",
       "      <td>False</td>\n",
       "    </tr>\n",
       "    <tr>\n",
       "      <th>7379</th>\n",
       "      <td>41</td>\n",
       "      <td>2011-12-30</td>\n",
       "      <td>34.12</td>\n",
       "      <td>3.119</td>\n",
       "      <td>5251.98</td>\n",
       "      <td>56106.20</td>\n",
       "      <td>134.70</td>\n",
       "      <td>1059.49</td>\n",
       "      <td>2366.54</td>\n",
       "      <td>196.358610</td>\n",
       "      <td>6.759</td>\n",
       "      <td>True</td>\n",
       "    </tr>\n",
       "    <tr>\n",
       "      <th>7555</th>\n",
       "      <td>42</td>\n",
       "      <td>2011-11-18</td>\n",
       "      <td>58.97</td>\n",
       "      <td>3.669</td>\n",
       "      <td>2544.26</td>\n",
       "      <td>12.31</td>\n",
       "      <td>2.02</td>\n",
       "      <td>NaN</td>\n",
       "      <td>3385.15</td>\n",
       "      <td>129.826833</td>\n",
       "      <td>7.874</td>\n",
       "      <td>False</td>\n",
       "    </tr>\n",
       "    <tr>\n",
       "      <th>7556</th>\n",
       "      <td>42</td>\n",
       "      <td>2011-11-25</td>\n",
       "      <td>60.68</td>\n",
       "      <td>3.760</td>\n",
       "      <td>25.80</td>\n",
       "      <td>NaN</td>\n",
       "      <td>4.70</td>\n",
       "      <td>NaN</td>\n",
       "      <td>1932.72</td>\n",
       "      <td>129.836400</td>\n",
       "      <td>7.874</td>\n",
       "      <td>True</td>\n",
       "    </tr>\n",
       "    <tr>\n",
       "      <th>7557</th>\n",
       "      <td>42</td>\n",
       "      <td>2011-12-02</td>\n",
       "      <td>57.29</td>\n",
       "      <td>3.701</td>\n",
       "      <td>24.09</td>\n",
       "      <td>NaN</td>\n",
       "      <td>4.70</td>\n",
       "      <td>NaN</td>\n",
       "      <td>1016.84</td>\n",
       "      <td>129.845967</td>\n",
       "      <td>7.874</td>\n",
       "      <td>False</td>\n",
       "    </tr>\n",
       "    <tr>\n",
       "      <th>7558</th>\n",
       "      <td>42</td>\n",
       "      <td>2011-12-09</td>\n",
       "      <td>42.58</td>\n",
       "      <td>3.644</td>\n",
       "      <td>31.20</td>\n",
       "      <td>NaN</td>\n",
       "      <td>21.31</td>\n",
       "      <td>NaN</td>\n",
       "      <td>1872.37</td>\n",
       "      <td>129.855533</td>\n",
       "      <td>7.874</td>\n",
       "      <td>False</td>\n",
       "    </tr>\n",
       "    <tr>\n",
       "      <th>7559</th>\n",
       "      <td>42</td>\n",
       "      <td>2011-12-16</td>\n",
       "      <td>50.53</td>\n",
       "      <td>3.489</td>\n",
       "      <td>2.42</td>\n",
       "      <td>NaN</td>\n",
       "      <td>31.33</td>\n",
       "      <td>NaN</td>\n",
       "      <td>675.78</td>\n",
       "      <td>129.898065</td>\n",
       "      <td>7.874</td>\n",
       "      <td>False</td>\n",
       "    </tr>\n",
       "    <tr>\n",
       "      <th>7560</th>\n",
       "      <td>42</td>\n",
       "      <td>2011-12-23</td>\n",
       "      <td>48.36</td>\n",
       "      <td>3.541</td>\n",
       "      <td>103.50</td>\n",
       "      <td>NaN</td>\n",
       "      <td>19.63</td>\n",
       "      <td>NaN</td>\n",
       "      <td>939.49</td>\n",
       "      <td>129.984548</td>\n",
       "      <td>7.874</td>\n",
       "      <td>False</td>\n",
       "    </tr>\n",
       "    <tr>\n",
       "      <th>7561</th>\n",
       "      <td>42</td>\n",
       "      <td>2011-12-30</td>\n",
       "      <td>48.92</td>\n",
       "      <td>3.428</td>\n",
       "      <td>242.41</td>\n",
       "      <td>1447.26</td>\n",
       "      <td>3.64</td>\n",
       "      <td>183.96</td>\n",
       "      <td>459.06</td>\n",
       "      <td>130.071032</td>\n",
       "      <td>7.874</td>\n",
       "      <td>True</td>\n",
       "    </tr>\n",
       "    <tr>\n",
       "      <th>7737</th>\n",
       "      <td>43</td>\n",
       "      <td>2011-11-18</td>\n",
       "      <td>57.75</td>\n",
       "      <td>3.308</td>\n",
       "      <td>32.13</td>\n",
       "      <td>3.37</td>\n",
       "      <td>2.56</td>\n",
       "      <td>NaN</td>\n",
       "      <td>1004.04</td>\n",
       "      <td>209.865107</td>\n",
       "      <td>10.148</td>\n",
       "      <td>False</td>\n",
       "    </tr>\n",
       "    <tr>\n",
       "      <th>7738</th>\n",
       "      <td>43</td>\n",
       "      <td>2011-11-25</td>\n",
       "      <td>55.70</td>\n",
       "      <td>3.236</td>\n",
       "      <td>3.37</td>\n",
       "      <td>NaN</td>\n",
       "      <td>5.76</td>\n",
       "      <td>NaN</td>\n",
       "      <td>212.75</td>\n",
       "      <td>210.088857</td>\n",
       "      <td>10.148</td>\n",
       "      <td>True</td>\n",
       "    </tr>\n",
       "    <tr>\n",
       "      <th>7739</th>\n",
       "      <td>43</td>\n",
       "      <td>2011-12-02</td>\n",
       "      <td>47.49</td>\n",
       "      <td>3.172</td>\n",
       "      <td>14.82</td>\n",
       "      <td>NaN</td>\n",
       "      <td>6.11</td>\n",
       "      <td>NaN</td>\n",
       "      <td>1707.13</td>\n",
       "      <td>210.312607</td>\n",
       "      <td>10.148</td>\n",
       "      <td>False</td>\n",
       "    </tr>\n",
       "    <tr>\n",
       "      <th>7740</th>\n",
       "      <td>43</td>\n",
       "      <td>2011-12-09</td>\n",
       "      <td>34.23</td>\n",
       "      <td>3.158</td>\n",
       "      <td>38.34</td>\n",
       "      <td>NaN</td>\n",
       "      <td>7.41</td>\n",
       "      <td>NaN</td>\n",
       "      <td>1707.87</td>\n",
       "      <td>210.536357</td>\n",
       "      <td>10.148</td>\n",
       "      <td>False</td>\n",
       "    </tr>\n",
       "    <tr>\n",
       "      <th>7741</th>\n",
       "      <td>43</td>\n",
       "      <td>2011-12-16</td>\n",
       "      <td>43.78</td>\n",
       "      <td>3.159</td>\n",
       "      <td>4.86</td>\n",
       "      <td>NaN</td>\n",
       "      <td>2.50</td>\n",
       "      <td>NaN</td>\n",
       "      <td>1070.83</td>\n",
       "      <td>210.736539</td>\n",
       "      <td>10.148</td>\n",
       "      <td>False</td>\n",
       "    </tr>\n",
       "    <tr>\n",
       "      <th>7742</th>\n",
       "      <td>43</td>\n",
       "      <td>2011-12-23</td>\n",
       "      <td>42.63</td>\n",
       "      <td>3.112</td>\n",
       "      <td>75.54</td>\n",
       "      <td>NaN</td>\n",
       "      <td>3.75</td>\n",
       "      <td>NaN</td>\n",
       "      <td>1276.15</td>\n",
       "      <td>210.905297</td>\n",
       "      <td>10.148</td>\n",
       "      <td>False</td>\n",
       "    </tr>\n",
       "    <tr>\n",
       "      <th>7743</th>\n",
       "      <td>43</td>\n",
       "      <td>2011-12-30</td>\n",
       "      <td>41.83</td>\n",
       "      <td>3.129</td>\n",
       "      <td>415.59</td>\n",
       "      <td>1926.05</td>\n",
       "      <td>NaN</td>\n",
       "      <td>50.66</td>\n",
       "      <td>837.74</td>\n",
       "      <td>211.074055</td>\n",
       "      <td>10.148</td>\n",
       "      <td>True</td>\n",
       "    </tr>\n",
       "    <tr>\n",
       "      <th>7919</th>\n",
       "      <td>44</td>\n",
       "      <td>2011-11-18</td>\n",
       "      <td>40.65</td>\n",
       "      <td>3.489</td>\n",
       "      <td>861.43</td>\n",
       "      <td>NaN</td>\n",
       "      <td>NaN</td>\n",
       "      <td>NaN</td>\n",
       "      <td>940.29</td>\n",
       "      <td>129.826833</td>\n",
       "      <td>6.078</td>\n",
       "      <td>False</td>\n",
       "    </tr>\n",
       "    <tr>\n",
       "      <th>7920</th>\n",
       "      <td>44</td>\n",
       "      <td>2011-11-25</td>\n",
       "      <td>38.89</td>\n",
       "      <td>3.445</td>\n",
       "      <td>NaN</td>\n",
       "      <td>NaN</td>\n",
       "      <td>NaN</td>\n",
       "      <td>NaN</td>\n",
       "      <td>256.45</td>\n",
       "      <td>129.836400</td>\n",
       "      <td>6.078</td>\n",
       "      <td>True</td>\n",
       "    </tr>\n",
       "    <tr>\n",
       "      <th>7921</th>\n",
       "      <td>44</td>\n",
       "      <td>2011-12-02</td>\n",
       "      <td>33.94</td>\n",
       "      <td>3.389</td>\n",
       "      <td>60.00</td>\n",
       "      <td>NaN</td>\n",
       "      <td>4.23</td>\n",
       "      <td>NaN</td>\n",
       "      <td>1185.19</td>\n",
       "      <td>129.845967</td>\n",
       "      <td>6.078</td>\n",
       "      <td>False</td>\n",
       "    </tr>\n",
       "    <tr>\n",
       "      <th>7922</th>\n",
       "      <td>44</td>\n",
       "      <td>2011-12-09</td>\n",
       "      <td>24.82</td>\n",
       "      <td>3.341</td>\n",
       "      <td>NaN</td>\n",
       "      <td>NaN</td>\n",
       "      <td>0.47</td>\n",
       "      <td>NaN</td>\n",
       "      <td>441.57</td>\n",
       "      <td>129.855533</td>\n",
       "      <td>6.078</td>\n",
       "      <td>False</td>\n",
       "    </tr>\n",
       "    <tr>\n",
       "      <th>7923</th>\n",
       "      <td>44</td>\n",
       "      <td>2011-12-16</td>\n",
       "      <td>27.85</td>\n",
       "      <td>3.282</td>\n",
       "      <td>29.40</td>\n",
       "      <td>NaN</td>\n",
       "      <td>6.75</td>\n",
       "      <td>NaN</td>\n",
       "      <td>1041.62</td>\n",
       "      <td>129.898065</td>\n",
       "      <td>6.078</td>\n",
       "      <td>False</td>\n",
       "    </tr>\n",
       "    <tr>\n",
       "      <th>7924</th>\n",
       "      <td>44</td>\n",
       "      <td>2011-12-23</td>\n",
       "      <td>24.76</td>\n",
       "      <td>3.186</td>\n",
       "      <td>38.00</td>\n",
       "      <td>NaN</td>\n",
       "      <td>NaN</td>\n",
       "      <td>NaN</td>\n",
       "      <td>746.84</td>\n",
       "      <td>129.984548</td>\n",
       "      <td>6.078</td>\n",
       "      <td>False</td>\n",
       "    </tr>\n",
       "    <tr>\n",
       "      <th>7925</th>\n",
       "      <td>44</td>\n",
       "      <td>2011-12-30</td>\n",
       "      <td>31.53</td>\n",
       "      <td>3.119</td>\n",
       "      <td>409.92</td>\n",
       "      <td>1566.42</td>\n",
       "      <td>NaN</td>\n",
       "      <td>17.64</td>\n",
       "      <td>153.90</td>\n",
       "      <td>130.071032</td>\n",
       "      <td>6.078</td>\n",
       "      <td>True</td>\n",
       "    </tr>\n",
       "    <tr>\n",
       "      <th>8101</th>\n",
       "      <td>45</td>\n",
       "      <td>2011-11-18</td>\n",
       "      <td>51.34</td>\n",
       "      <td>3.530</td>\n",
       "      <td>4240.34</td>\n",
       "      <td>132.96</td>\n",
       "      <td>111.71</td>\n",
       "      <td>270.14</td>\n",
       "      <td>7073.00</td>\n",
       "      <td>188.198365</td>\n",
       "      <td>8.523</td>\n",
       "      <td>False</td>\n",
       "    </tr>\n",
       "    <tr>\n",
       "      <th>8102</th>\n",
       "      <td>45</td>\n",
       "      <td>2011-11-25</td>\n",
       "      <td>48.71</td>\n",
       "      <td>3.492</td>\n",
       "      <td>140.87</td>\n",
       "      <td>384.82</td>\n",
       "      <td>26961.99</td>\n",
       "      <td>28.59</td>\n",
       "      <td>1110.12</td>\n",
       "      <td>188.350400</td>\n",
       "      <td>8.523</td>\n",
       "      <td>True</td>\n",
       "    </tr>\n",
       "    <tr>\n",
       "      <th>8103</th>\n",
       "      <td>45</td>\n",
       "      <td>2011-12-02</td>\n",
       "      <td>50.19</td>\n",
       "      <td>3.452</td>\n",
       "      <td>6835.61</td>\n",
       "      <td>120.76</td>\n",
       "      <td>802.79</td>\n",
       "      <td>2490.15</td>\n",
       "      <td>17861.50</td>\n",
       "      <td>188.502435</td>\n",
       "      <td>8.523</td>\n",
       "      <td>False</td>\n",
       "    </tr>\n",
       "    <tr>\n",
       "      <th>8104</th>\n",
       "      <td>45</td>\n",
       "      <td>2011-12-09</td>\n",
       "      <td>46.57</td>\n",
       "      <td>3.415</td>\n",
       "      <td>6176.69</td>\n",
       "      <td>2.87</td>\n",
       "      <td>379.57</td>\n",
       "      <td>1593.44</td>\n",
       "      <td>10170.50</td>\n",
       "      <td>188.654469</td>\n",
       "      <td>8.523</td>\n",
       "      <td>False</td>\n",
       "    </tr>\n",
       "    <tr>\n",
       "      <th>8105</th>\n",
       "      <td>45</td>\n",
       "      <td>2011-12-16</td>\n",
       "      <td>39.93</td>\n",
       "      <td>3.413</td>\n",
       "      <td>4631.26</td>\n",
       "      <td>8.92</td>\n",
       "      <td>801.34</td>\n",
       "      <td>848.33</td>\n",
       "      <td>2757.82</td>\n",
       "      <td>188.797935</td>\n",
       "      <td>8.523</td>\n",
       "      <td>False</td>\n",
       "    </tr>\n",
       "    <tr>\n",
       "      <th>8106</th>\n",
       "      <td>45</td>\n",
       "      <td>2011-12-23</td>\n",
       "      <td>42.27</td>\n",
       "      <td>3.389</td>\n",
       "      <td>797.10</td>\n",
       "      <td>89.14</td>\n",
       "      <td>1962.19</td>\n",
       "      <td>17.00</td>\n",
       "      <td>2985.51</td>\n",
       "      <td>188.929975</td>\n",
       "      <td>8.523</td>\n",
       "      <td>False</td>\n",
       "    </tr>\n",
       "    <tr>\n",
       "      <th>8107</th>\n",
       "      <td>45</td>\n",
       "      <td>2011-12-30</td>\n",
       "      <td>37.79</td>\n",
       "      <td>3.389</td>\n",
       "      <td>3604.35</td>\n",
       "      <td>43941.56</td>\n",
       "      <td>287.45</td>\n",
       "      <td>357.43</td>\n",
       "      <td>750.01</td>\n",
       "      <td>189.062016</td>\n",
       "      <td>8.523</td>\n",
       "      <td>True</td>\n",
       "    </tr>\n",
       "  </tbody>\n",
       "</table>\n",
       "<p>315 rows × 12 columns</p>\n",
       "</div>"
      ],
      "text/plain": [
       "      Store       Date  Temperature  Fuel_Price  MarkDown1  MarkDown2  \\\n",
       "93        1 2011-11-18        62.25       3.308    6074.12     254.39   \n",
       "94        1 2011-11-25        60.14       3.236     410.31      98.00   \n",
       "95        1 2011-12-02        48.91       3.172    5629.51      68.00   \n",
       "96        1 2011-12-09        43.93       3.158    4640.65      19.00   \n",
       "97        1 2011-12-16        51.63       3.159    5011.32      67.00   \n",
       "98        1 2011-12-23        47.96       3.112    2725.36      40.48   \n",
       "99        1 2011-12-30        44.55       3.129    5762.10   46011.38   \n",
       "275       2 2011-11-18        62.01       3.308    6490.92    1217.76   \n",
       "276       2 2011-11-25        56.36       3.236     919.71      62.00   \n",
       "277       2 2011-12-02        48.74       3.172    8010.99      83.47   \n",
       "278       2 2011-12-09        41.76       3.158   11472.59      40.00   \n",
       "279       2 2011-12-16        50.13       3.159    4908.83      61.03   \n",
       "280       2 2011-12-23        46.66       3.112    2971.04      15.18   \n",
       "281       2 2011-12-30        44.57       3.129    8321.44   92523.94   \n",
       "457       3 2011-11-18        63.91       3.308    1383.53      23.27   \n",
       "458       3 2011-11-25        68.00       3.236      41.74      10.47   \n",
       "459       3 2011-12-02        54.97       3.172     850.86      18.94   \n",
       "460       3 2011-12-09        49.26       3.158    4059.38       6.47   \n",
       "461       3 2011-12-16        57.95       3.159    1864.61        NaN   \n",
       "462       3 2011-12-23        53.41       3.112      89.98       0.24   \n",
       "463       3 2011-12-30        48.29       3.129    1449.16   14356.07   \n",
       "639       4 2011-11-18        50.44       3.294    4539.94     840.56   \n",
       "640       4 2011-11-25        47.96       3.225     561.45     137.88   \n",
       "641       4 2011-12-02        38.71       3.176    9762.39     160.94   \n",
       "642       4 2011-12-09        31.64       3.153    5857.72      30.00   \n",
       "643       4 2011-12-16        36.44       3.149    2756.67      72.30   \n",
       "644       4 2011-12-23        35.92       3.103    2461.94      69.05   \n",
       "645       4 2011-12-30        36.89       3.119    3496.13   72413.71   \n",
       "821       5 2011-11-18        64.33       3.308     952.21     116.11   \n",
       "822       5 2011-11-25        61.93       3.236     107.42       7.00   \n",
       "...     ...        ...          ...         ...        ...        ...   \n",
       "7378     41 2011-12-23        25.59       3.173    1284.19      30.33   \n",
       "7379     41 2011-12-30        34.12       3.119    5251.98   56106.20   \n",
       "7555     42 2011-11-18        58.97       3.669    2544.26      12.31   \n",
       "7556     42 2011-11-25        60.68       3.760      25.80        NaN   \n",
       "7557     42 2011-12-02        57.29       3.701      24.09        NaN   \n",
       "7558     42 2011-12-09        42.58       3.644      31.20        NaN   \n",
       "7559     42 2011-12-16        50.53       3.489       2.42        NaN   \n",
       "7560     42 2011-12-23        48.36       3.541     103.50        NaN   \n",
       "7561     42 2011-12-30        48.92       3.428     242.41    1447.26   \n",
       "7737     43 2011-11-18        57.75       3.308      32.13       3.37   \n",
       "7738     43 2011-11-25        55.70       3.236       3.37        NaN   \n",
       "7739     43 2011-12-02        47.49       3.172      14.82        NaN   \n",
       "7740     43 2011-12-09        34.23       3.158      38.34        NaN   \n",
       "7741     43 2011-12-16        43.78       3.159       4.86        NaN   \n",
       "7742     43 2011-12-23        42.63       3.112      75.54        NaN   \n",
       "7743     43 2011-12-30        41.83       3.129     415.59    1926.05   \n",
       "7919     44 2011-11-18        40.65       3.489     861.43        NaN   \n",
       "7920     44 2011-11-25        38.89       3.445        NaN        NaN   \n",
       "7921     44 2011-12-02        33.94       3.389      60.00        NaN   \n",
       "7922     44 2011-12-09        24.82       3.341        NaN        NaN   \n",
       "7923     44 2011-12-16        27.85       3.282      29.40        NaN   \n",
       "7924     44 2011-12-23        24.76       3.186      38.00        NaN   \n",
       "7925     44 2011-12-30        31.53       3.119     409.92    1566.42   \n",
       "8101     45 2011-11-18        51.34       3.530    4240.34     132.96   \n",
       "8102     45 2011-11-25        48.71       3.492     140.87     384.82   \n",
       "8103     45 2011-12-02        50.19       3.452    6835.61     120.76   \n",
       "8104     45 2011-12-09        46.57       3.415    6176.69       2.87   \n",
       "8105     45 2011-12-16        39.93       3.413    4631.26       8.92   \n",
       "8106     45 2011-12-23        42.27       3.389     797.10      89.14   \n",
       "8107     45 2011-12-30        37.79       3.389    3604.35   43941.56   \n",
       "\n",
       "      MarkDown3  MarkDown4  MarkDown5         CPI  Unemployment  IsHoliday  \n",
       "93        51.98     427.39    5988.57  218.220509         7.866      False  \n",
       "94     55805.51       8.00     554.92  218.467621         7.866       True  \n",
       "95      1398.11    2084.64   20475.32  218.714733         7.866      False  \n",
       "96       105.02    3639.42   14461.82  218.961846         7.866      False  \n",
       "97       347.37     225.79    4011.37  219.179453         7.866      False  \n",
       "98       634.70      24.90    2739.43  219.357722         7.866      False  \n",
       "99       260.36     983.65    4735.78  219.535990         7.866       True  \n",
       "275      152.12     873.82    7656.42  217.867022         7.441      False  \n",
       "276    77451.26      23.00    1589.43  218.113027         7.441       True  \n",
       "277     1897.27    4444.00   28238.93  218.359032         7.441      False  \n",
       "278      306.43    4160.55    8899.08  218.605037         7.441      False  \n",
       "279      341.49     469.80    4744.27  218.821793         7.441      False  \n",
       "280     1501.75      88.76    6437.61  218.999550         7.441      False  \n",
       "281      139.53    1515.40    3027.69  219.177306         7.441       True  \n",
       "457       19.95     865.09    2926.05  221.643285         7.197      False  \n",
       "458    37612.74        NaN     135.16  221.901118         7.197       True  \n",
       "459      781.71     394.29    7297.10  222.158952         7.197      False  \n",
       "460      123.42     833.44    3018.08  222.416785         7.197      False  \n",
       "461      170.36     187.42    1500.38  222.642642         7.197      False  \n",
       "462      411.52        NaN     586.66  222.825863         7.197      False  \n",
       "463       66.66      81.43     777.35  223.009084         7.197       True  \n",
       "639      372.90     613.96    5358.13  129.826833         5.143      False  \n",
       "640    83340.33      44.04    9239.23  129.836400         5.143       True  \n",
       "641     2260.29    4767.86   28604.20  129.845967         5.143      False  \n",
       "642      984.98    4692.50   13503.99  129.855533         5.143      False  \n",
       "643     1790.15     777.65   10261.95  129.898065         5.143      False  \n",
       "644     2938.24      52.00    4396.76  129.984548         5.143      False  \n",
       "645      399.77     776.26    5012.53  130.071032         5.143       True  \n",
       "821       95.01     295.13    4368.45  218.793912         6.300      False  \n",
       "822    29333.06       8.00     826.06  219.042820         6.300       True  \n",
       "...         ...        ...        ...         ...           ...        ...  \n",
       "7378    1059.90      35.76    3430.56  196.171389         6.759      False  \n",
       "7379     134.70    1059.49    2366.54  196.358610         6.759       True  \n",
       "7555       2.02        NaN    3385.15  129.826833         7.874      False  \n",
       "7556       4.70        NaN    1932.72  129.836400         7.874       True  \n",
       "7557       4.70        NaN    1016.84  129.845967         7.874      False  \n",
       "7558      21.31        NaN    1872.37  129.855533         7.874      False  \n",
       "7559      31.33        NaN     675.78  129.898065         7.874      False  \n",
       "7560      19.63        NaN     939.49  129.984548         7.874      False  \n",
       "7561       3.64     183.96     459.06  130.071032         7.874       True  \n",
       "7737       2.56        NaN    1004.04  209.865107        10.148      False  \n",
       "7738       5.76        NaN     212.75  210.088857        10.148       True  \n",
       "7739       6.11        NaN    1707.13  210.312607        10.148      False  \n",
       "7740       7.41        NaN    1707.87  210.536357        10.148      False  \n",
       "7741       2.50        NaN    1070.83  210.736539        10.148      False  \n",
       "7742       3.75        NaN    1276.15  210.905297        10.148      False  \n",
       "7743        NaN      50.66     837.74  211.074055        10.148       True  \n",
       "7919        NaN        NaN     940.29  129.826833         6.078      False  \n",
       "7920        NaN        NaN     256.45  129.836400         6.078       True  \n",
       "7921       4.23        NaN    1185.19  129.845967         6.078      False  \n",
       "7922       0.47        NaN     441.57  129.855533         6.078      False  \n",
       "7923       6.75        NaN    1041.62  129.898065         6.078      False  \n",
       "7924        NaN        NaN     746.84  129.984548         6.078      False  \n",
       "7925        NaN      17.64     153.90  130.071032         6.078       True  \n",
       "8101     111.71     270.14    7073.00  188.198365         8.523      False  \n",
       "8102   26961.99      28.59    1110.12  188.350400         8.523       True  \n",
       "8103     802.79    2490.15   17861.50  188.502435         8.523      False  \n",
       "8104     379.57    1593.44   10170.50  188.654469         8.523      False  \n",
       "8105     801.34     848.33    2757.82  188.797935         8.523      False  \n",
       "8106    1962.19      17.00    2985.51  188.929975         8.523      False  \n",
       "8107     287.45     357.43     750.01  189.062016         8.523       True  \n",
       "\n",
       "[315 rows x 12 columns]"
      ]
     },
     "execution_count": 51,
     "metadata": {},
     "output_type": "execute_result"
    }
   ],
   "source": [
    "holidays_2011 = (features_df['Date'] > convert_datetime('17/11/2011')) & (features_df['Date'] < convert_datetime('31/12/2011'))\n",
    "\n",
    "features_df[holidays_2011]"
   ]
  },
  {
   "cell_type": "markdown",
   "metadata": {},
   "source": [
    "Yes! The end of year holidays in 2011 have nonzero markdown weeks!"
   ]
  },
  {
   "cell_type": "markdown",
   "metadata": {},
   "source": [
    "### Sales by Temperature and Fuel Price"
   ]
  },
  {
   "cell_type": "code",
   "execution_count": 52,
   "metadata": {
    "scrolled": true
   },
   "outputs": [
    {
     "data": {
      "image/png": "[encoded data removed]",
      "text/plain": [
       "<Figure size 432x288 with 1 Axes>"
      ]
     },
     "metadata": {
      "needs_background": "light"
     },
     "output_type": "display_data"
    }
   ],
   "source": [
    "plot_by('Temperature',0)"
   ]
  },
  {
   "cell_type": "markdown",
   "metadata": {},
   "source": [
    "The highest average sales correspond to temperatures in the range [20,55] degrees Fahrenheit, which happens to be where most average temperatures in the US lie during the months of November and December. So, in a sense, temperature is already encoded in the column `Date`. We will decide to include temperature depending on whether it improves the accuracy of our predictive models."
   ]
  },
  {
   "cell_type": "code",
   "execution_count": 53,
   "metadata": {
    "scrolled": true
   },
   "outputs": [
    {
     "data": {
      "image/png": "[encoded data removed]",
      "text/plain": [
       "<Figure size 432x288 with 1 Axes>"
      ]
     },
     "metadata": {
      "needs_background": "light"
     },
     "output_type": "display_data"
    }
   ],
   "source": [
    "plot_by('Fuel_Price', 0)"
   ]
  },
  {
   "cell_type": "code",
   "execution_count": 54,
   "metadata": {
    "scrolled": true
   },
   "outputs": [
    {
     "data": {
      "image/png": "[encoded data removed]",
      "text/plain": [
       "<Figure size 432x288 with 1 Axes>"
      ]
     },
     "metadata": {
      "needs_background": "light"
     },
     "output_type": "display_data"
    }
   ],
   "source": [
    "plot_store(15, 'Fuel_Price', 0)"
   ]
  },
  {
   "cell_type": "code",
   "execution_count": 55,
   "metadata": {},
   "outputs": [
    {
     "data": {
      "image/png": "[encoded data removed]",
      "text/plain": [
       "<Figure size 432x288 with 1 Axes>"
      ]
     },
     "metadata": {
      "needs_background": "light"
     },
     "output_type": "display_data"
    }
   ],
   "source": [
    "fuel_by_week = df.groupby('Date').mean().reset_index()\n",
    "\n",
    "plt.scatter(fuel_by_week['Date'],fuel_by_week['Fuel_Price'])\n",
    "plt.xlabel('Date')\n",
    "plt.ylabel('Fuel Price')\n",
    "plt.xticks(rotation = 70)\n",
    "\n",
    "plt.show()\n",
    "\n"
   ]
  },
  {
   "cell_type": "markdown",
   "metadata": {},
   "source": [
    "Similar to temperature, fuel price is an indicator of time of the year. There is a seasonal trend in fuel price. So it will be safe to drop this column as well. The plot above shows us exactly this point. During the summer months gas is more expensive."
   ]
  },
  {
   "cell_type": "markdown",
   "metadata": {},
   "source": [
    "### Sales by Markdown"
   ]
  },
  {
   "cell_type": "markdown",
   "metadata": {},
   "source": [
    "There are five fields corresponding to markdowns in the `features` data set. We are interested in the total sum. Let's create a new field and name it `MarkDownTotal`."
   ]
  },
  {
   "cell_type": "code",
   "execution_count": 56,
   "metadata": {},
   "outputs": [],
   "source": [
    "df.fillna(0, inplace=True)"
   ]
  },
  {
   "cell_type": "code",
   "execution_count": 57,
   "metadata": {},
   "outputs": [],
   "source": [
    "markdown_list = [df[name] for name in ['MarkDown' + str(i) for i in range(1,6)]]\n",
    "\n",
    "df['MarkDownTotal'] = sum(markdown_list)"
   ]
  },
  {
   "cell_type": "code",
   "execution_count": 58,
   "metadata": {
    "scrolled": true
   },
   "outputs": [
    {
     "data": {
      "text/html": [
       "<div>\n",
       "<style scoped>\n",
       "    .dataframe tbody tr th:only-of-type {\n",
       "        vertical-align: middle;\n",
       "    }\n",
       "\n",
       "    .dataframe tbody tr th {\n",
       "        vertical-align: top;\n",
       "    }\n",
       "\n",
       "    .dataframe thead th {\n",
       "        text-align: right;\n",
       "    }\n",
       "</style>\n",
       "<table border=\"1\" class=\"dataframe\">\n",
       "  <thead>\n",
       "    <tr style=\"text-align: right;\">\n",
       "      <th></th>\n",
       "      <th>Store</th>\n",
       "      <th>Dept</th>\n",
       "      <th>Date</th>\n",
       "      <th>Weekly_Sales</th>\n",
       "      <th>IsHoliday</th>\n",
       "      <th>Temperature</th>\n",
       "      <th>Fuel_Price</th>\n",
       "      <th>MarkDown1</th>\n",
       "      <th>MarkDown2</th>\n",
       "      <th>MarkDown3</th>\n",
       "      <th>MarkDown4</th>\n",
       "      <th>MarkDown5</th>\n",
       "      <th>CPI</th>\n",
       "      <th>Unemployment</th>\n",
       "      <th>Type</th>\n",
       "      <th>Size</th>\n",
       "      <th>MarkDownTotal</th>\n",
       "    </tr>\n",
       "  </thead>\n",
       "  <tbody>\n",
       "    <tr>\n",
       "      <th>0</th>\n",
       "      <td>1</td>\n",
       "      <td>1</td>\n",
       "      <td>2010-02-05</td>\n",
       "      <td>24924.50</td>\n",
       "      <td>False</td>\n",
       "      <td>42.31</td>\n",
       "      <td>2.572</td>\n",
       "      <td>0.0</td>\n",
       "      <td>0.0</td>\n",
       "      <td>0.0</td>\n",
       "      <td>0.0</td>\n",
       "      <td>0.0</td>\n",
       "      <td>211.096358</td>\n",
       "      <td>8.106</td>\n",
       "      <td>A</td>\n",
       "      <td>151315</td>\n",
       "      <td>0.0</td>\n",
       "    </tr>\n",
       "    <tr>\n",
       "      <th>1</th>\n",
       "      <td>1</td>\n",
       "      <td>1</td>\n",
       "      <td>2010-02-12</td>\n",
       "      <td>46039.49</td>\n",
       "      <td>True</td>\n",
       "      <td>38.51</td>\n",
       "      <td>2.548</td>\n",
       "      <td>0.0</td>\n",
       "      <td>0.0</td>\n",
       "      <td>0.0</td>\n",
       "      <td>0.0</td>\n",
       "      <td>0.0</td>\n",
       "      <td>211.242170</td>\n",
       "      <td>8.106</td>\n",
       "      <td>A</td>\n",
       "      <td>151315</td>\n",
       "      <td>0.0</td>\n",
       "    </tr>\n",
       "    <tr>\n",
       "      <th>2</th>\n",
       "      <td>1</td>\n",
       "      <td>1</td>\n",
       "      <td>2010-02-19</td>\n",
       "      <td>41595.55</td>\n",
       "      <td>False</td>\n",
       "      <td>39.93</td>\n",
       "      <td>2.514</td>\n",
       "      <td>0.0</td>\n",
       "      <td>0.0</td>\n",
       "      <td>0.0</td>\n",
       "      <td>0.0</td>\n",
       "      <td>0.0</td>\n",
       "      <td>211.289143</td>\n",
       "      <td>8.106</td>\n",
       "      <td>A</td>\n",
       "      <td>151315</td>\n",
       "      <td>0.0</td>\n",
       "    </tr>\n",
       "    <tr>\n",
       "      <th>3</th>\n",
       "      <td>1</td>\n",
       "      <td>1</td>\n",
       "      <td>2010-02-26</td>\n",
       "      <td>19403.54</td>\n",
       "      <td>False</td>\n",
       "      <td>46.63</td>\n",
       "      <td>2.561</td>\n",
       "      <td>0.0</td>\n",
       "      <td>0.0</td>\n",
       "      <td>0.0</td>\n",
       "      <td>0.0</td>\n",
       "      <td>0.0</td>\n",
       "      <td>211.319643</td>\n",
       "      <td>8.106</td>\n",
       "      <td>A</td>\n",
       "      <td>151315</td>\n",
       "      <td>0.0</td>\n",
       "    </tr>\n",
       "    <tr>\n",
       "      <th>4</th>\n",
       "      <td>1</td>\n",
       "      <td>1</td>\n",
       "      <td>2010-03-05</td>\n",
       "      <td>21827.90</td>\n",
       "      <td>False</td>\n",
       "      <td>46.50</td>\n",
       "      <td>2.625</td>\n",
       "      <td>0.0</td>\n",
       "      <td>0.0</td>\n",
       "      <td>0.0</td>\n",
       "      <td>0.0</td>\n",
       "      <td>0.0</td>\n",
       "      <td>211.350143</td>\n",
       "      <td>8.106</td>\n",
       "      <td>A</td>\n",
       "      <td>151315</td>\n",
       "      <td>0.0</td>\n",
       "    </tr>\n",
       "  </tbody>\n",
       "</table>\n",
       "</div>"
      ],
      "text/plain": [
       "   Store  Dept       Date  Weekly_Sales  IsHoliday  Temperature  Fuel_Price  \\\n",
       "0      1     1 2010-02-05      24924.50      False        42.31       2.572   \n",
       "1      1     1 2010-02-12      46039.49       True        38.51       2.548   \n",
       "2      1     1 2010-02-19      41595.55      False        39.93       2.514   \n",
       "3      1     1 2010-02-26      19403.54      False        46.63       2.561   \n",
       "4      1     1 2010-03-05      21827.90      False        46.50       2.625   \n",
       "\n",
       "   MarkDown1  MarkDown2  MarkDown3  MarkDown4  MarkDown5         CPI  \\\n",
       "0        0.0        0.0        0.0        0.0        0.0  211.096358   \n",
       "1        0.0        0.0        0.0        0.0        0.0  211.242170   \n",
       "2        0.0        0.0        0.0        0.0        0.0  211.289143   \n",
       "3        0.0        0.0        0.0        0.0        0.0  211.319643   \n",
       "4        0.0        0.0        0.0        0.0        0.0  211.350143   \n",
       "\n",
       "   Unemployment Type    Size  MarkDownTotal  \n",
       "0         8.106    A  151315            0.0  \n",
       "1         8.106    A  151315            0.0  \n",
       "2         8.106    A  151315            0.0  \n",
       "3         8.106    A  151315            0.0  \n",
       "4         8.106    A  151315            0.0  "
      ]
     },
     "execution_count": 58,
     "metadata": {},
     "output_type": "execute_result"
    }
   ],
   "source": [
    "df.head()"
   ]
  },
  {
   "cell_type": "markdown",
   "metadata": {},
   "source": [
    "There is no clear relationship between increasing Markdown and weekly sales. To the contrary, weekly sales hit their maximum in the absence of a markdown as we can see below."
   ]
  },
  {
   "cell_type": "code",
   "execution_count": 59,
   "metadata": {
    "scrolled": false
   },
   "outputs": [
    {
     "data": {
      "image/png": "[encoded data removed]",
      "text/plain": [
       "<Figure size 432x288 with 1 Axes>"
      ]
     },
     "metadata": {
      "needs_background": "light"
     },
     "output_type": "display_data"
    }
   ],
   "source": [
    "plt.scatter(df['MarkDownTotal'],df['Weekly_Sales'], label = 'Sales at given Store and Dept')\n",
    "plt.xlabel('Total Markdown')\n",
    "plt.ylabel('Weekly Sales Amount')\n",
    "plt.legend(loc = \"upper right\")\n",
    "\n",
    "plt.show()"
   ]
  },
  {
   "cell_type": "markdown",
   "metadata": {},
   "source": [
    "There is no correlation between markdown and weekly sales at a given store and department. Usually, promotions and discounts are meant for items in surplus which, in most cases, is out of fashion or out of date."
   ]
  },
  {
   "cell_type": "markdown",
   "metadata": {},
   "source": [
    "First, let's confirm our assumptions. Markdowns happen during holidays."
   ]
  },
  {
   "cell_type": "code",
   "execution_count": 60,
   "metadata": {
    "scrolled": true
   },
   "outputs": [
    {
     "data": {
      "image/png": "[encoded data removed]",
      "text/plain": [
       "<Figure size 432x288 with 1 Axes>"
      ]
     },
     "metadata": {
      "needs_background": "light"
     },
     "output_type": "display_data"
    }
   ],
   "source": [
    "plt.scatter(df['Date'],df['MarkDownTotal'])\n",
    "plt.xticks(rotation = 70)\n",
    "plt.show()"
   ]
  },
  {
   "cell_type": "markdown",
   "metadata": {},
   "source": [
    "There are no markdowns before November of 2011. Let's restrict our domain to dates after."
   ]
  },
  {
   "cell_type": "code",
   "execution_count": 61,
   "metadata": {
    "scrolled": false
   },
   "outputs": [
    {
     "data": {
      "image/png": "[encoded data removed]",
      "text/plain": [
       "<Figure size 432x288 with 1 Axes>"
      ]
     },
     "metadata": {
      "needs_background": "light"
     },
     "output_type": "display_data"
    }
   ],
   "source": [
    "dates_after_nov = df['Date'] > convert_datetime('1/11/2011')\n",
    "\n",
    "plt.scatter(df[dates_after_nov]['Date'],df[dates_after_nov]['MarkDownTotal'])\n",
    "plt.xticks(rotation = 70)\n",
    "plt.show()"
   ]
  },
  {
   "cell_type": "markdown",
   "metadata": {},
   "source": [
    "Here we can see markdowns coincide with holiday seasons; but they also appear at the beginning of Spring and Summer. It's safe to keep this field, along with the individual breakdowns."
   ]
  },
  {
   "cell_type": "markdown",
   "metadata": {},
   "source": [
    "### Sales by Department"
   ]
  },
  {
   "cell_type": "markdown",
   "metadata": {},
   "source": [
    "A quick scatter plot for weekly sales at a given store and department by department."
   ]
  },
  {
   "cell_type": "code",
   "execution_count": 62,
   "metadata": {},
   "outputs": [
    {
     "data": {
      "image/png": "[encoded data removed]",
      "text/plain": [
       "<Figure size 432x288 with 1 Axes>"
      ]
     },
     "metadata": {
      "needs_background": "light"
     },
     "output_type": "display_data"
    }
   ],
   "source": [
    "plt.scatter(df['Dept'],df['Weekly_Sales'])\n",
    "plt.xticks(rotation = 70)\n",
    "plt.show()"
   ]
  },
  {
   "cell_type": "markdown",
   "metadata": {},
   "source": [
    "There are two departments that stand out. Let's average weekly sales by department and see which departments are popular in terms of sales."
   ]
  },
  {
   "cell_type": "code",
   "execution_count": 64,
   "metadata": {},
   "outputs": [],
   "source": [
    "def plot_by_dept(dept = 1, rotation = 70):\n",
    "    \n",
    "    \n",
    "    col = 'Date'\n",
    "      \n",
    "    my_df = df[df['Dept'] == dept].groupby(col).mean().reset_index()    \n",
    "\n",
    "    \n",
    "    plt.scatter(my_df['Date'], my_df['Weekly_Sales'])\n",
    "    \n",
    "    plt.xlabel(col)\n",
    "    plt.ylabel('Average Weekly Sales')\n",
    "    plt.xticks(rotation=rotation)\n",
    "    \n",
    "    plt.title('Department {}'.format(dept))\n",
    "    \n",
    "    plt.show()"
   ]
  },
  {
   "cell_type": "code",
   "execution_count": 65,
   "metadata": {},
   "outputs": [
    {
     "data": {
      "text/plain": [
       "count    421570.000000\n",
       "mean         44.260317\n",
       "std          30.492054\n",
       "min           1.000000\n",
       "25%          18.000000\n",
       "50%          37.000000\n",
       "75%          74.000000\n",
       "max          99.000000\n",
       "Name: Dept, dtype: float64"
      ]
     },
     "execution_count": 65,
     "metadata": {},
     "output_type": "execute_result"
    }
   ],
   "source": [
    "df['Dept'].describe()"
   ]
  },
  {
   "cell_type": "markdown",
   "metadata": {},
   "source": [
    "There are 99 departments. One thing to note is that not all departments are present accross all fifty stores. Some walmart stores are bigger than others. Using the helper function above we can see that there are some departments that have seasonal trends. For instance, let's take a look at department 16."
   ]
  },
  {
   "cell_type": "code",
   "execution_count": 66,
   "metadata": {
    "scrolled": true
   },
   "outputs": [
    {
     "data": {
      "image/png": "[encoded data removed]",
      "text/plain": [
       "<Figure size 432x288 with 1 Axes>"
      ]
     },
     "metadata": {
      "needs_background": "light"
     },
     "output_type": "display_data"
    }
   ],
   "source": [
    "plot_by_dept(16)"
   ]
  },
  {
   "cell_type": "markdown",
   "metadata": {},
   "source": [
    "However, there are departments are not influenced by season or time."
   ]
  },
  {
   "cell_type": "code",
   "execution_count": 67,
   "metadata": {},
   "outputs": [
    {
     "data": {
      "image/png": "[encoded data removed]",
      "text/plain": [
       "<Figure size 432x288 with 1 Axes>"
      ]
     },
     "metadata": {
      "needs_background": "light"
     },
     "output_type": "display_data"
    }
   ],
   "source": [
    "plot_by_dept(51)"
   ]
  },
  {
   "cell_type": "markdown",
   "metadata": {},
   "source": [
    "It is safe to say that deparment, in and of itself, is an important feature that predicts weekly sales."
   ]
  },
  {
   "cell_type": "markdown",
   "metadata": {},
   "source": [
    "### Sales by Unemployment and CPI"
   ]
  },
  {
   "cell_type": "code",
   "execution_count": 68,
   "metadata": {
    "scrolled": true
   },
   "outputs": [
    {
     "data": {
      "image/png": "[encoded data removed]",
      "text/plain": [
       "<Figure size 432x288 with 1 Axes>"
      ]
     },
     "metadata": {
      "needs_background": "light"
     },
     "output_type": "display_data"
    }
   ],
   "source": [
    "plot_by('Unemployment', 0)"
   ]
  },
  {
   "cell_type": "code",
   "execution_count": 69,
   "metadata": {
    "scrolled": true
   },
   "outputs": [
    {
     "data": {
      "image/png": "[encoded data removed]",
      "text/plain": [
       "<Figure size 432x288 with 1 Axes>"
      ]
     },
     "metadata": {
      "needs_background": "light"
     },
     "output_type": "display_data"
    }
   ],
   "source": [
    "plot_by('CPI', 0)"
   ]
  },
  {
   "cell_type": "markdown",
   "metadata": {},
   "source": [
    "There isn't much we can gloss over from the scatter plot above. We need to see how unemployment and CPI affect weekly sales for a particular store. So first we restrict to a given store and then plot unemployment/CPI against weekly sales. Let's go!"
   ]
  },
  {
   "cell_type": "code",
   "execution_count": 70,
   "metadata": {
    "scrolled": true
   },
   "outputs": [
    {
     "data": {
      "image/png": "[encoded data removed]",
      "text/plain": [
       "<Figure size 432x288 with 1 Axes>"
      ]
     },
     "metadata": {
      "needs_background": "light"
     },
     "output_type": "display_data"
    }
   ],
   "source": [
    "plot_store(12, 'Unemployment', 0)"
   ]
  },
  {
   "cell_type": "code",
   "execution_count": 71,
   "metadata": {},
   "outputs": [
    {
     "data": {
      "image/png": "[encoded data removed]",
      "text/plain": [
       "<Figure size 432x288 with 1 Axes>"
      ]
     },
     "metadata": {
      "needs_background": "light"
     },
     "output_type": "display_data"
    }
   ],
   "source": [
    "plot_store(5, 'CPI', 0)"
   ]
  },
  {
   "cell_type": "markdown",
   "metadata": {},
   "source": [
    "There is no clear correlation between average weekly sales and unemployment given a specific store. The same is true for consumer price indices. It will be safe to drop these two columns from our final list of features."
   ]
  },
  {
   "cell_type": "markdown",
   "metadata": {},
   "source": [
    "## Feature Engineering"
   ]
  },
  {
   "cell_type": "markdown",
   "metadata": {},
   "source": [
    "We first work with the `date` columns. In order to capture trends, whether seasonal or yearly, we need to break the data into separate components as below."
   ]
  },
  {
   "cell_type": "code",
   "execution_count": 72,
   "metadata": {},
   "outputs": [],
   "source": [
    "df['Year'] = df['Date'].apply(lambda x: x.year)\n",
    "df['Week'] = df['Date'].apply(lambda x: x.week)\n",
    "df['Season'] = df['Date'].apply(lambda x: (x.month % 12 + 3) // 3)"
   ]
  },
  {
   "cell_type": "code",
   "execution_count": 73,
   "metadata": {},
   "outputs": [],
   "source": [
    "model_df = df.drop(['Weekly_Sales','CPI','Temperature','Dept','Fuel_Price','Unemployment'],axis=1)"
   ]
  },
  {
   "cell_type": "markdown",
   "metadata": {},
   "source": [
    "All the predictor variables we are considering are categorical except for store size. We use the built in `get_dummies` method from pandas."
   ]
  },
  {
   "cell_type": "code",
   "execution_count": 74,
   "metadata": {},
   "outputs": [
    {
     "data": {
      "text/html": [
       "<div>\n",
       "<style scoped>\n",
       "    .dataframe tbody tr th:only-of-type {\n",
       "        vertical-align: middle;\n",
       "    }\n",
       "\n",
       "    .dataframe tbody tr th {\n",
       "        vertical-align: top;\n",
       "    }\n",
       "\n",
       "    .dataframe thead th {\n",
       "        text-align: right;\n",
       "    }\n",
       "</style>\n",
       "<table border=\"1\" class=\"dataframe\">\n",
       "  <thead>\n",
       "    <tr style=\"text-align: right;\">\n",
       "      <th></th>\n",
       "      <th>Store</th>\n",
       "      <th>Date</th>\n",
       "      <th>IsHoliday</th>\n",
       "      <th>MarkDown1</th>\n",
       "      <th>MarkDown2</th>\n",
       "      <th>MarkDown3</th>\n",
       "      <th>MarkDown4</th>\n",
       "      <th>MarkDown5</th>\n",
       "      <th>Size</th>\n",
       "      <th>MarkDownTotal</th>\n",
       "      <th>Year</th>\n",
       "      <th>Week</th>\n",
       "      <th>Season</th>\n",
       "      <th>Type_A</th>\n",
       "      <th>Type_B</th>\n",
       "      <th>Type_C</th>\n",
       "    </tr>\n",
       "  </thead>\n",
       "  <tbody>\n",
       "    <tr>\n",
       "      <th>0</th>\n",
       "      <td>1</td>\n",
       "      <td>2010-02-05</td>\n",
       "      <td>False</td>\n",
       "      <td>0.0</td>\n",
       "      <td>0.0</td>\n",
       "      <td>0.0</td>\n",
       "      <td>0.0</td>\n",
       "      <td>0.0</td>\n",
       "      <td>151315</td>\n",
       "      <td>0.0</td>\n",
       "      <td>2010</td>\n",
       "      <td>5</td>\n",
       "      <td>1</td>\n",
       "      <td>1</td>\n",
       "      <td>0</td>\n",
       "      <td>0</td>\n",
       "    </tr>\n",
       "    <tr>\n",
       "      <th>1</th>\n",
       "      <td>1</td>\n",
       "      <td>2010-02-12</td>\n",
       "      <td>True</td>\n",
       "      <td>0.0</td>\n",
       "      <td>0.0</td>\n",
       "      <td>0.0</td>\n",
       "      <td>0.0</td>\n",
       "      <td>0.0</td>\n",
       "      <td>151315</td>\n",
       "      <td>0.0</td>\n",
       "      <td>2010</td>\n",
       "      <td>6</td>\n",
       "      <td>1</td>\n",
       "      <td>1</td>\n",
       "      <td>0</td>\n",
       "      <td>0</td>\n",
       "    </tr>\n",
       "    <tr>\n",
       "      <th>2</th>\n",
       "      <td>1</td>\n",
       "      <td>2010-02-19</td>\n",
       "      <td>False</td>\n",
       "      <td>0.0</td>\n",
       "      <td>0.0</td>\n",
       "      <td>0.0</td>\n",
       "      <td>0.0</td>\n",
       "      <td>0.0</td>\n",
       "      <td>151315</td>\n",
       "      <td>0.0</td>\n",
       "      <td>2010</td>\n",
       "      <td>7</td>\n",
       "      <td>1</td>\n",
       "      <td>1</td>\n",
       "      <td>0</td>\n",
       "      <td>0</td>\n",
       "    </tr>\n",
       "    <tr>\n",
       "      <th>3</th>\n",
       "      <td>1</td>\n",
       "      <td>2010-02-26</td>\n",
       "      <td>False</td>\n",
       "      <td>0.0</td>\n",
       "      <td>0.0</td>\n",
       "      <td>0.0</td>\n",
       "      <td>0.0</td>\n",
       "      <td>0.0</td>\n",
       "      <td>151315</td>\n",
       "      <td>0.0</td>\n",
       "      <td>2010</td>\n",
       "      <td>8</td>\n",
       "      <td>1</td>\n",
       "      <td>1</td>\n",
       "      <td>0</td>\n",
       "      <td>0</td>\n",
       "    </tr>\n",
       "    <tr>\n",
       "      <th>4</th>\n",
       "      <td>1</td>\n",
       "      <td>2010-03-05</td>\n",
       "      <td>False</td>\n",
       "      <td>0.0</td>\n",
       "      <td>0.0</td>\n",
       "      <td>0.0</td>\n",
       "      <td>0.0</td>\n",
       "      <td>0.0</td>\n",
       "      <td>151315</td>\n",
       "      <td>0.0</td>\n",
       "      <td>2010</td>\n",
       "      <td>9</td>\n",
       "      <td>2</td>\n",
       "      <td>1</td>\n",
       "      <td>0</td>\n",
       "      <td>0</td>\n",
       "    </tr>\n",
       "  </tbody>\n",
       "</table>\n",
       "</div>"
      ],
      "text/plain": [
       "   Store       Date  IsHoliday  MarkDown1  MarkDown2  MarkDown3  MarkDown4  \\\n",
       "0      1 2010-02-05      False        0.0        0.0        0.0        0.0   \n",
       "1      1 2010-02-12       True        0.0        0.0        0.0        0.0   \n",
       "2      1 2010-02-19      False        0.0        0.0        0.0        0.0   \n",
       "3      1 2010-02-26      False        0.0        0.0        0.0        0.0   \n",
       "4      1 2010-03-05      False        0.0        0.0        0.0        0.0   \n",
       "\n",
       "   MarkDown5    Size  MarkDownTotal  Year  Week  Season  Type_A  Type_B  \\\n",
       "0        0.0  151315            0.0  2010     5       1       1       0   \n",
       "1        0.0  151315            0.0  2010     6       1       1       0   \n",
       "2        0.0  151315            0.0  2010     7       1       1       0   \n",
       "3        0.0  151315            0.0  2010     8       1       1       0   \n",
       "4        0.0  151315            0.0  2010     9       2       1       0   \n",
       "\n",
       "   Type_C  \n",
       "0       0  \n",
       "1       0  \n",
       "2       0  \n",
       "3       0  \n",
       "4       0  "
      ]
     },
     "execution_count": 74,
     "metadata": {},
     "output_type": "execute_result"
    }
   ],
   "source": [
    "model_df = pd.get_dummies(model_df)\n",
    "model_df.head()"
   ]
  },
  {
   "cell_type": "markdown",
   "metadata": {},
   "source": [
    "Let's write a helper function to convert the time fields into dummy variables."
   ]
  },
  {
   "cell_type": "code",
   "execution_count": 75,
   "metadata": {},
   "outputs": [],
   "source": [
    "def make_dummies(start_df, column):\n",
    "    return pd.concat([start_df,pd.get_dummies(start_df[column],prefix = column)], axis = 1).drop([column], axis = 1)"
   ]
  },
  {
   "cell_type": "code",
   "execution_count": 76,
   "metadata": {},
   "outputs": [],
   "source": [
    "model_df = make_dummies(model_df,'Year')\n",
    "model_df = make_dummies(model_df, 'Season')\n"
   ]
  },
  {
   "cell_type": "markdown",
   "metadata": {},
   "source": [
    "And lastly, manually convert `IsHoliday` to a dummy variable."
   ]
  },
  {
   "cell_type": "code",
   "execution_count": 78,
   "metadata": {},
   "outputs": [],
   "source": [
    "model_df['IsHoliday'] = model_df['IsHoliday'].apply(lambda x: 1 if x else 0)"
   ]
  },
  {
   "cell_type": "code",
   "execution_count": 79,
   "metadata": {
    "scrolled": true
   },
   "outputs": [
    {
     "data": {
      "text/html": [
       "<div>\n",
       "<style scoped>\n",
       "    .dataframe tbody tr th:only-of-type {\n",
       "        vertical-align: middle;\n",
       "    }\n",
       "\n",
       "    .dataframe tbody tr th {\n",
       "        vertical-align: top;\n",
       "    }\n",
       "\n",
       "    .dataframe thead th {\n",
       "        text-align: right;\n",
       "    }\n",
       "</style>\n",
       "<table border=\"1\" class=\"dataframe\">\n",
       "  <thead>\n",
       "    <tr style=\"text-align: right;\">\n",
       "      <th></th>\n",
       "      <th>Store</th>\n",
       "      <th>Date</th>\n",
       "      <th>IsHoliday</th>\n",
       "      <th>MarkDown1</th>\n",
       "      <th>MarkDown2</th>\n",
       "      <th>MarkDown3</th>\n",
       "      <th>MarkDown4</th>\n",
       "      <th>MarkDown5</th>\n",
       "      <th>Size</th>\n",
       "      <th>MarkDownTotal</th>\n",
       "      <th>...</th>\n",
       "      <th>Week_47</th>\n",
       "      <th>Week_48</th>\n",
       "      <th>Week_49</th>\n",
       "      <th>Week_50</th>\n",
       "      <th>Week_51</th>\n",
       "      <th>Week_52</th>\n",
       "      <th>Season_1</th>\n",
       "      <th>Season_2</th>\n",
       "      <th>Season_3</th>\n",
       "      <th>Season_4</th>\n",
       "    </tr>\n",
       "  </thead>\n",
       "  <tbody>\n",
       "    <tr>\n",
       "      <th>0</th>\n",
       "      <td>1</td>\n",
       "      <td>2010-02-05</td>\n",
       "      <td>0</td>\n",
       "      <td>0.0</td>\n",
       "      <td>0.0</td>\n",
       "      <td>0.0</td>\n",
       "      <td>0.0</td>\n",
       "      <td>0.0</td>\n",
       "      <td>151315</td>\n",
       "      <td>0.0</td>\n",
       "      <td>...</td>\n",
       "      <td>0</td>\n",
       "      <td>0</td>\n",
       "      <td>0</td>\n",
       "      <td>0</td>\n",
       "      <td>0</td>\n",
       "      <td>0</td>\n",
       "      <td>1</td>\n",
       "      <td>0</td>\n",
       "      <td>0</td>\n",
       "      <td>0</td>\n",
       "    </tr>\n",
       "    <tr>\n",
       "      <th>1</th>\n",
       "      <td>1</td>\n",
       "      <td>2010-02-12</td>\n",
       "      <td>1</td>\n",
       "      <td>0.0</td>\n",
       "      <td>0.0</td>\n",
       "      <td>0.0</td>\n",
       "      <td>0.0</td>\n",
       "      <td>0.0</td>\n",
       "      <td>151315</td>\n",
       "      <td>0.0</td>\n",
       "      <td>...</td>\n",
       "      <td>0</td>\n",
       "      <td>0</td>\n",
       "      <td>0</td>\n",
       "      <td>0</td>\n",
       "      <td>0</td>\n",
       "      <td>0</td>\n",
       "      <td>1</td>\n",
       "      <td>0</td>\n",
       "      <td>0</td>\n",
       "      <td>0</td>\n",
       "    </tr>\n",
       "    <tr>\n",
       "      <th>2</th>\n",
       "      <td>1</td>\n",
       "      <td>2010-02-19</td>\n",
       "      <td>0</td>\n",
       "      <td>0.0</td>\n",
       "      <td>0.0</td>\n",
       "      <td>0.0</td>\n",
       "      <td>0.0</td>\n",
       "      <td>0.0</td>\n",
       "      <td>151315</td>\n",
       "      <td>0.0</td>\n",
       "      <td>...</td>\n",
       "      <td>0</td>\n",
       "      <td>0</td>\n",
       "      <td>0</td>\n",
       "      <td>0</td>\n",
       "      <td>0</td>\n",
       "      <td>0</td>\n",
       "      <td>1</td>\n",
       "      <td>0</td>\n",
       "      <td>0</td>\n",
       "      <td>0</td>\n",
       "    </tr>\n",
       "    <tr>\n",
       "      <th>3</th>\n",
       "      <td>1</td>\n",
       "      <td>2010-02-26</td>\n",
       "      <td>0</td>\n",
       "      <td>0.0</td>\n",
       "      <td>0.0</td>\n",
       "      <td>0.0</td>\n",
       "      <td>0.0</td>\n",
       "      <td>0.0</td>\n",
       "      <td>151315</td>\n",
       "      <td>0.0</td>\n",
       "      <td>...</td>\n",
       "      <td>0</td>\n",
       "      <td>0</td>\n",
       "      <td>0</td>\n",
       "      <td>0</td>\n",
       "      <td>0</td>\n",
       "      <td>0</td>\n",
       "      <td>1</td>\n",
       "      <td>0</td>\n",
       "      <td>0</td>\n",
       "      <td>0</td>\n",
       "    </tr>\n",
       "    <tr>\n",
       "      <th>4</th>\n",
       "      <td>1</td>\n",
       "      <td>2010-03-05</td>\n",
       "      <td>0</td>\n",
       "      <td>0.0</td>\n",
       "      <td>0.0</td>\n",
       "      <td>0.0</td>\n",
       "      <td>0.0</td>\n",
       "      <td>0.0</td>\n",
       "      <td>151315</td>\n",
       "      <td>0.0</td>\n",
       "      <td>...</td>\n",
       "      <td>0</td>\n",
       "      <td>0</td>\n",
       "      <td>0</td>\n",
       "      <td>0</td>\n",
       "      <td>0</td>\n",
       "      <td>0</td>\n",
       "      <td>0</td>\n",
       "      <td>1</td>\n",
       "      <td>0</td>\n",
       "      <td>0</td>\n",
       "    </tr>\n",
       "  </tbody>\n",
       "</table>\n",
       "<p>5 rows × 72 columns</p>\n",
       "</div>"
      ],
      "text/plain": [
       "   Store       Date  IsHoliday  MarkDown1  MarkDown2  MarkDown3  MarkDown4  \\\n",
       "0      1 2010-02-05          0        0.0        0.0        0.0        0.0   \n",
       "1      1 2010-02-12          1        0.0        0.0        0.0        0.0   \n",
       "2      1 2010-02-19          0        0.0        0.0        0.0        0.0   \n",
       "3      1 2010-02-26          0        0.0        0.0        0.0        0.0   \n",
       "4      1 2010-03-05          0        0.0        0.0        0.0        0.0   \n",
       "\n",
       "   MarkDown5    Size  MarkDownTotal  ...  Week_47  Week_48  Week_49  Week_50  \\\n",
       "0        0.0  151315            0.0  ...        0        0        0        0   \n",
       "1        0.0  151315            0.0  ...        0        0        0        0   \n",
       "2        0.0  151315            0.0  ...        0        0        0        0   \n",
       "3        0.0  151315            0.0  ...        0        0        0        0   \n",
       "4        0.0  151315            0.0  ...        0        0        0        0   \n",
       "\n",
       "   Week_51  Week_52  Season_1  Season_2  Season_3  Season_4  \n",
       "0        0        0         1         0         0         0  \n",
       "1        0        0         1         0         0         0  \n",
       "2        0        0         1         0         0         0  \n",
       "3        0        0         1         0         0         0  \n",
       "4        0        0         0         1         0         0  \n",
       "\n",
       "[5 rows x 72 columns]"
      ]
     },
     "execution_count": 79,
     "metadata": {},
     "output_type": "execute_result"
    }
   ],
   "source": [
    "model_df.head()"
   ]
  },
  {
   "cell_type": "code",
   "execution_count": 80,
   "metadata": {
    "scrolled": true
   },
   "outputs": [
    {
     "data": {
      "text/plain": [
       "Index(['Store', 'Date', 'IsHoliday', 'MarkDown1', 'MarkDown2', 'MarkDown3',\n",
       "       'MarkDown4', 'MarkDown5', 'Size', 'MarkDownTotal', 'Type_A', 'Type_B',\n",
       "       'Type_C', 'Year_2010', 'Year_2011', 'Year_2012', 'Week_1', 'Week_2',\n",
       "       'Week_3', 'Week_4', 'Week_5', 'Week_6', 'Week_7', 'Week_8', 'Week_9',\n",
       "       'Week_10', 'Week_11', 'Week_12', 'Week_13', 'Week_14', 'Week_15',\n",
       "       'Week_16', 'Week_17', 'Week_18', 'Week_19', 'Week_20', 'Week_21',\n",
       "       'Week_22', 'Week_23', 'Week_24', 'Week_25', 'Week_26', 'Week_27',\n",
       "       'Week_28', 'Week_29', 'Week_30', 'Week_31', 'Week_32', 'Week_33',\n",
       "       'Week_34', 'Week_35', 'Week_36', 'Week_37', 'Week_38', 'Week_39',\n",
       "       'Week_40', 'Week_41', 'Week_42', 'Week_43', 'Week_44', 'Week_45',\n",
       "       'Week_46', 'Week_47', 'Week_48', 'Week_49', 'Week_50', 'Week_51',\n",
       "       'Week_52', 'Season_1', 'Season_2', 'Season_3', 'Season_4'],\n",
       "      dtype='object')"
      ]
     },
     "execution_count": 80,
     "metadata": {},
     "output_type": "execute_result"
    }
   ],
   "source": [
    "model_df.columns"
   ]
  },
  {
   "cell_type": "markdown",
   "metadata": {},
   "source": [
    "## Model Pipeline"
   ]
  },
  {
   "cell_type": "markdown",
   "metadata": {},
   "source": [
    "We can construct a custom transformer to execute all the operations we performed to the data for feature engineering up to this point."
   ]
  },
  {
   "cell_type": "code",
   "execution_count": 174,
   "metadata": {},
   "outputs": [],
   "source": [
    "from sklearn import base\n",
    "\n",
    "class MyTransformer(base.BaseEstimator, base.TransformerMixin):\n",
    "    \n",
    "    def __init__(self):\n",
    "        self.name = 'name'\n",
    "    \n",
    "    def fit(self, X, y=None):\n",
    "        # This transformer doesn't need to learn anything about the data,\n",
    "        # so it can just return self without any further processing \n",
    "        return self\n",
    "    \n",
    "    #a helper function we'll use in transform\n",
    "    def make_dummies(start_df, column):\n",
    "        return pd.concat([start_df,pd.get_dummies(start_df[column],prefix = column)], \n",
    "                         axis = 1).drop([column], axis = 1)\n",
    "    \n",
    "    def transform(self, X):\n",
    "        # X is our sales_df dataframe\n",
    "        # Return an array with the same number of rows as X and one\n",
    "        # column for each in self.col_names\n",
    "        \n",
    "        df = X.copy()\n",
    "        \n",
    "        \n",
    "        \n",
    "        df['Date'] = pd.to_datetime(df['Date'])\n",
    "        \n",
    "        df['Year'] = df['Date'].apply(lambda x: x.year)\n",
    "        df['Month'] = df['Date'].apply(lambda x: x.month)\n",
    "        df['Season'] = df['Date'].apply(lambda x: (x.month % 12 + 3) // 3)\n",
    "        \n",
    "        df.drop(['Date'], axis = 1, inplace=True)\n",
    "        \n",
    "        df.fillna(0, inplace=True)\n",
    "        \n",
    "        df = pd.get_dummies(df)\n",
    "        \n",
    "        df = make_dummies(df, 'Dept')\n",
    "        \n",
    "        df = make_dummies(df,'Year')\n",
    "        df = make_dummies(df, 'Month')\n",
    "        df = make_dummies(df, 'Season')\n",
    "        \n",
    "        df['IsHoliday'] = df['IsHoliday'].apply(lambda x: 1 if x else 0)\n",
    "        \n",
    "        return df"
   ]
  },
  {
   "cell_type": "code",
   "execution_count": 175,
   "metadata": {
    "scrolled": true
   },
   "outputs": [
    {
     "data": {
      "text/html": [
       "<div>\n",
       "<style scoped>\n",
       "    .dataframe tbody tr th:only-of-type {\n",
       "        vertical-align: middle;\n",
       "    }\n",
       "\n",
       "    .dataframe tbody tr th {\n",
       "        vertical-align: top;\n",
       "    }\n",
       "\n",
       "    .dataframe thead th {\n",
       "        text-align: right;\n",
       "    }\n",
       "</style>\n",
       "<table border=\"1\" class=\"dataframe\">\n",
       "  <thead>\n",
       "    <tr style=\"text-align: right;\">\n",
       "      <th></th>\n",
       "      <th>Store</th>\n",
       "      <th>IsHoliday</th>\n",
       "      <th>MarkDown1</th>\n",
       "      <th>MarkDown2</th>\n",
       "      <th>MarkDown3</th>\n",
       "      <th>MarkDown4</th>\n",
       "      <th>MarkDown5</th>\n",
       "      <th>Size</th>\n",
       "      <th>Type_A</th>\n",
       "      <th>Type_B</th>\n",
       "      <th>...</th>\n",
       "      <th>Month_7</th>\n",
       "      <th>Month_8</th>\n",
       "      <th>Month_9</th>\n",
       "      <th>Month_10</th>\n",
       "      <th>Month_11</th>\n",
       "      <th>Month_12</th>\n",
       "      <th>Season_1</th>\n",
       "      <th>Season_2</th>\n",
       "      <th>Season_3</th>\n",
       "      <th>Season_4</th>\n",
       "    </tr>\n",
       "  </thead>\n",
       "  <tbody>\n",
       "    <tr>\n",
       "      <th>0</th>\n",
       "      <td>1</td>\n",
       "      <td>0</td>\n",
       "      <td>0.0</td>\n",
       "      <td>0.0</td>\n",
       "      <td>0.0</td>\n",
       "      <td>0.0</td>\n",
       "      <td>0.0</td>\n",
       "      <td>151315</td>\n",
       "      <td>1</td>\n",
       "      <td>0</td>\n",
       "      <td>...</td>\n",
       "      <td>0</td>\n",
       "      <td>0</td>\n",
       "      <td>0</td>\n",
       "      <td>0</td>\n",
       "      <td>0</td>\n",
       "      <td>0</td>\n",
       "      <td>1</td>\n",
       "      <td>0</td>\n",
       "      <td>0</td>\n",
       "      <td>0</td>\n",
       "    </tr>\n",
       "    <tr>\n",
       "      <th>1</th>\n",
       "      <td>1</td>\n",
       "      <td>1</td>\n",
       "      <td>0.0</td>\n",
       "      <td>0.0</td>\n",
       "      <td>0.0</td>\n",
       "      <td>0.0</td>\n",
       "      <td>0.0</td>\n",
       "      <td>151315</td>\n",
       "      <td>1</td>\n",
       "      <td>0</td>\n",
       "      <td>...</td>\n",
       "      <td>0</td>\n",
       "      <td>0</td>\n",
       "      <td>0</td>\n",
       "      <td>0</td>\n",
       "      <td>0</td>\n",
       "      <td>0</td>\n",
       "      <td>1</td>\n",
       "      <td>0</td>\n",
       "      <td>0</td>\n",
       "      <td>0</td>\n",
       "    </tr>\n",
       "    <tr>\n",
       "      <th>2</th>\n",
       "      <td>1</td>\n",
       "      <td>0</td>\n",
       "      <td>0.0</td>\n",
       "      <td>0.0</td>\n",
       "      <td>0.0</td>\n",
       "      <td>0.0</td>\n",
       "      <td>0.0</td>\n",
       "      <td>151315</td>\n",
       "      <td>1</td>\n",
       "      <td>0</td>\n",
       "      <td>...</td>\n",
       "      <td>0</td>\n",
       "      <td>0</td>\n",
       "      <td>0</td>\n",
       "      <td>0</td>\n",
       "      <td>0</td>\n",
       "      <td>0</td>\n",
       "      <td>1</td>\n",
       "      <td>0</td>\n",
       "      <td>0</td>\n",
       "      <td>0</td>\n",
       "    </tr>\n",
       "    <tr>\n",
       "      <th>3</th>\n",
       "      <td>1</td>\n",
       "      <td>0</td>\n",
       "      <td>0.0</td>\n",
       "      <td>0.0</td>\n",
       "      <td>0.0</td>\n",
       "      <td>0.0</td>\n",
       "      <td>0.0</td>\n",
       "      <td>151315</td>\n",
       "      <td>1</td>\n",
       "      <td>0</td>\n",
       "      <td>...</td>\n",
       "      <td>0</td>\n",
       "      <td>0</td>\n",
       "      <td>0</td>\n",
       "      <td>0</td>\n",
       "      <td>0</td>\n",
       "      <td>0</td>\n",
       "      <td>1</td>\n",
       "      <td>0</td>\n",
       "      <td>0</td>\n",
       "      <td>0</td>\n",
       "    </tr>\n",
       "    <tr>\n",
       "      <th>4</th>\n",
       "      <td>1</td>\n",
       "      <td>0</td>\n",
       "      <td>0.0</td>\n",
       "      <td>0.0</td>\n",
       "      <td>0.0</td>\n",
       "      <td>0.0</td>\n",
       "      <td>0.0</td>\n",
       "      <td>151315</td>\n",
       "      <td>1</td>\n",
       "      <td>0</td>\n",
       "      <td>...</td>\n",
       "      <td>0</td>\n",
       "      <td>0</td>\n",
       "      <td>0</td>\n",
       "      <td>0</td>\n",
       "      <td>0</td>\n",
       "      <td>0</td>\n",
       "      <td>0</td>\n",
       "      <td>1</td>\n",
       "      <td>0</td>\n",
       "      <td>0</td>\n",
       "    </tr>\n",
       "  </tbody>\n",
       "</table>\n",
       "<p>5 rows × 111 columns</p>\n",
       "</div>"
      ],
      "text/plain": [
       "   Store  IsHoliday  MarkDown1  MarkDown2  MarkDown3  MarkDown4  MarkDown5  \\\n",
       "0      1          0        0.0        0.0        0.0        0.0        0.0   \n",
       "1      1          1        0.0        0.0        0.0        0.0        0.0   \n",
       "2      1          0        0.0        0.0        0.0        0.0        0.0   \n",
       "3      1          0        0.0        0.0        0.0        0.0        0.0   \n",
       "4      1          0        0.0        0.0        0.0        0.0        0.0   \n",
       "\n",
       "     Size  Type_A  Type_B  ...  Month_7  Month_8  Month_9  Month_10  Month_11  \\\n",
       "0  151315       1       0  ...        0        0        0         0         0   \n",
       "1  151315       1       0  ...        0        0        0         0         0   \n",
       "2  151315       1       0  ...        0        0        0         0         0   \n",
       "3  151315       1       0  ...        0        0        0         0         0   \n",
       "4  151315       1       0  ...        0        0        0         0         0   \n",
       "\n",
       "   Month_12  Season_1  Season_2  Season_3  Season_4  \n",
       "0         0         1         0         0         0  \n",
       "1         0         1         0         0         0  \n",
       "2         0         1         0         0         0  \n",
       "3         0         1         0         0         0  \n",
       "4         0         0         1         0         0  \n",
       "\n",
       "[5 rows x 111 columns]"
      ]
     },
     "execution_count": 175,
     "metadata": {},
     "output_type": "execute_result"
    }
   ],
   "source": [
    "features_df = pd.read_csv('features.csv')\n",
    "stores_df = pd.read_csv('stores.csv')\n",
    "sales_df = pd.read_csv('train.csv')\n",
    "\n",
    "df = pd.merge(sales_df, features_df, on = ['Date', 'Store'], how = 'left')\n",
    "df = pd.merge(df, stores_df, on = 'Store', how = 'left')\n",
    "df = df.drop(['IsHoliday_y'], axis = 1)\n",
    "df.rename(columns={'IsHoliday_x':'IsHoliday'}, inplace=True)\n",
    "df.drop(['Weekly_Sales','CPI','Temperature','Fuel_Price','Unemployment'],axis=1,\n",
    "        inplace=True)\n",
    "\n",
    "model_df = MyTransformer().fit_transform(df)\n",
    "\n",
    "model_df.head()\n"
   ]
  },
  {
   "cell_type": "code",
   "execution_count": 176,
   "metadata": {},
   "outputs": [
    {
     "data": {
      "text/plain": [
       "Index(['Store', 'IsHoliday', 'MarkDown1', 'MarkDown2', 'MarkDown3',\n",
       "       'MarkDown4', 'MarkDown5', 'Size', 'Type_A', 'Type_B',\n",
       "       ...\n",
       "       'Month_7', 'Month_8', 'Month_9', 'Month_10', 'Month_11', 'Month_12',\n",
       "       'Season_1', 'Season_2', 'Season_3', 'Season_4'],\n",
       "      dtype='object', length=111)"
      ]
     },
     "execution_count": 176,
     "metadata": {},
     "output_type": "execute_result"
    }
   ],
   "source": [
    "model_df.columns"
   ]
  },
  {
   "cell_type": "markdown",
   "metadata": {},
   "source": [
    "We finally write our model pipeline so that it is easier to compare across different models."
   ]
  },
  {
   "cell_type": "code",
   "execution_count": 177,
   "metadata": {},
   "outputs": [
    {
     "data": {
      "text/plain": [
       "Pipeline(memory=None,\n",
       "         steps=[('transform', MyTransformer()),\n",
       "                ('estimator',\n",
       "                 Ridge(alpha=1.0, copy_X=True, fit_intercept=True,\n",
       "                       max_iter=None, normalize=False, random_state=None,\n",
       "                       solver='auto', tol=0.001))],\n",
       "         verbose=False)"
      ]
     },
     "execution_count": 177,
     "metadata": {},
     "output_type": "execute_result"
    }
   ],
   "source": [
    "from sklearn.pipeline import Pipeline\n",
    "from sklearn.linear_model import Ridge\n",
    "\n",
    "pipe = Pipeline([\n",
    "    ('transform', MyTransformer()),\n",
    "    ('estimator', Ridge())\n",
    "    ])\n",
    "X, y = df, sales_df['Weekly_Sales']\n",
    "\n",
    "pipe.fit(X,y)"
   ]
  },
  {
   "cell_type": "code",
   "execution_count": 178,
   "metadata": {},
   "outputs": [
    {
     "data": {
      "text/plain": [
       "array([23795.16143382, 23775.47904983, 23795.16143382, ...,\n",
       "        1198.2776887 ,  1095.47879092,  1135.57696747])"
      ]
     },
     "execution_count": 178,
     "metadata": {},
     "output_type": "execute_result"
    }
   ],
   "source": [
    "pipe.predict(X)"
   ]
  },
  {
   "cell_type": "code",
   "execution_count": 182,
   "metadata": {},
   "outputs": [],
   "source": [
    "from sklearn.metrics import mean_absolute_error\n",
    "\n",
    "def calc_mse(pipeline):\n",
    "    return mean_absolute_error(y,pipeline.predict(X))\n"
   ]
  },
  {
   "cell_type": "code",
   "execution_count": 183,
   "metadata": {},
   "outputs": [
    {
     "data": {
      "text/plain": [
       "8414.034425299575"
      ]
     },
     "execution_count": 183,
     "metadata": {},
     "output_type": "execute_result"
    }
   ],
   "source": [
    "calc_mse(pipe)"
   ]
  },
  {
   "cell_type": "markdown",
   "metadata": {},
   "source": [
    "Let's see how a random forest regressor does!"
   ]
  },
  {
   "cell_type": "code",
   "execution_count": 184,
   "metadata": {},
   "outputs": [
    {
     "name": "stderr",
     "output_type": "stream",
     "text": [
      "//anaconda3/lib/python3.7/site-packages/sklearn/ensemble/forest.py:245: FutureWarning: The default value of n_estimators will change from 10 in version 0.20 to 100 in 0.22.\n",
      "  \"10 in version 0.20 to 100 in 0.22.\", FutureWarning)\n"
     ]
    },
    {
     "data": {
      "text/plain": [
       "Pipeline(memory=None,\n",
       "         steps=[('transform', MyTransformer()),\n",
       "                ('estimator',\n",
       "                 RandomForestRegressor(bootstrap=True, criterion='mse',\n",
       "                                       max_depth=None, max_features='auto',\n",
       "                                       max_leaf_nodes=None,\n",
       "                                       min_impurity_decrease=0.0,\n",
       "                                       min_impurity_split=None,\n",
       "                                       min_samples_leaf=1, min_samples_split=2,\n",
       "                                       min_weight_fraction_leaf=0.0,\n",
       "                                       n_estimators=10, n_jobs=None,\n",
       "                                       oob_score=False, random_state=None,\n",
       "                                       verbose=0, warm_start=False))],\n",
       "         verbose=False)"
      ]
     },
     "execution_count": 184,
     "metadata": {},
     "output_type": "execute_result"
    }
   ],
   "source": [
    "from sklearn.pipeline import Pipeline\n",
    "from sklearn.ensemble import RandomForestRegressor\n",
    "\n",
    "\n",
    "pipe_rf = Pipeline([\n",
    "    ('transform', MyTransformer()),\n",
    "    ('estimator', RandomForestRegressor())\n",
    "    ])\n",
    "X, y = df, sales_df['Weekly_Sales']\n",
    "\n",
    "pipe_rf.fit(X,y)"
   ]
  },
  {
   "cell_type": "code",
   "execution_count": 185,
   "metadata": {},
   "outputs": [
    {
     "data": {
      "text/plain": [
       "1040.800299195726"
      ]
     },
     "execution_count": 185,
     "metadata": {},
     "output_type": "execute_result"
    }
   ],
   "source": [
    "calc_mse(pipe_rf)"
   ]
  },
  {
   "cell_type": "markdown",
   "metadata": {},
   "source": [
    "This is a much lower MAE than our previous linear Ridge model. Similarly, we can compute the MAE for various other models and choose the one with the smallest MAE. Let's try one more."
   ]
  },
  {
   "cell_type": "code",
   "execution_count": 186,
   "metadata": {},
   "outputs": [
    {
     "data": {
      "text/plain": [
       "Pipeline(memory=None,\n",
       "         steps=[('transform', MyTransformer()),\n",
       "                ('estimator',\n",
       "                 GradientBoostingRegressor(alpha=0.9, criterion='friedman_mse',\n",
       "                                           init=None, learning_rate=0.1,\n",
       "                                           loss='ls', max_depth=3,\n",
       "                                           max_features=None,\n",
       "                                           max_leaf_nodes=None,\n",
       "                                           min_impurity_decrease=0.0,\n",
       "                                           min_impurity_split=None,\n",
       "                                           min_samples_leaf=1,\n",
       "                                           min_samples_split=2,\n",
       "                                           min_weight_fraction_leaf=0.0,\n",
       "                                           n_estimators=100,\n",
       "                                           n_iter_no_change=None,\n",
       "                                           presort='auto', random_state=None,\n",
       "                                           subsample=1.0, tol=0.0001,\n",
       "                                           validation_fraction=0.1, verbose=0,\n",
       "                                           warm_start=False))],\n",
       "         verbose=False)"
      ]
     },
     "execution_count": 186,
     "metadata": {},
     "output_type": "execute_result"
    }
   ],
   "source": [
    "from sklearn.ensemble import GradientBoostingRegressor\n",
    "\n",
    "pipe_gb = Pipeline([\n",
    "    ('transform', MyTransformer()),\n",
    "    ('estimator', GradientBoostingRegressor())\n",
    "    ])\n",
    "X, y = df, sales_df['Weekly_Sales']\n",
    "\n",
    "pipe_gb.fit(X,y)"
   ]
  },
  {
   "cell_type": "code",
   "execution_count": 187,
   "metadata": {},
   "outputs": [
    {
     "data": {
      "text/plain": [
       "7994.655202565708"
      ]
     },
     "execution_count": 187,
     "metadata": {},
     "output_type": "execute_result"
    }
   ],
   "source": [
    "calc_mse(pipe_gb)"
   ]
  },
  {
   "cell_type": "code",
   "execution_count": 188,
   "metadata": {},
   "outputs": [
    {
     "name": "stderr",
     "output_type": "stream",
     "text": [
      "//anaconda3/lib/python3.7/site-packages/sklearn/ensemble/forest.py:245: FutureWarning: The default value of n_estimators will change from 10 in version 0.20 to 100 in 0.22.\n",
      "  \"10 in version 0.20 to 100 in 0.22.\", FutureWarning)\n"
     ]
    },
    {
     "data": {
      "text/plain": [
       "Pipeline(memory=None,\n",
       "         steps=[('transform', MyTransformer()),\n",
       "                ('estimator',\n",
       "                 ExtraTreesRegressor(bootstrap=False, criterion='mse',\n",
       "                                     max_depth=None, max_features='auto',\n",
       "                                     max_leaf_nodes=None,\n",
       "                                     min_impurity_decrease=0.0,\n",
       "                                     min_impurity_split=None,\n",
       "                                     min_samples_leaf=1, min_samples_split=2,\n",
       "                                     min_weight_fraction_leaf=0.0,\n",
       "                                     n_estimators=10, n_jobs=None,\n",
       "                                     oob_score=False, random_state=None,\n",
       "                                     verbose=0, warm_start=False))],\n",
       "         verbose=False)"
      ]
     },
     "execution_count": 188,
     "metadata": {},
     "output_type": "execute_result"
    }
   ],
   "source": [
    "from sklearn.ensemble import ExtraTreesRegressor\n",
    "\n",
    "pipe_etr = Pipeline([\n",
    "    ('transform', MyTransformer()),\n",
    "    ('estimator', ExtraTreesRegressor())\n",
    "    ])\n",
    "X, y = df, sales_df['Weekly_Sales']\n",
    "\n",
    "pipe_etr.fit(X,y)"
   ]
  },
  {
   "cell_type": "code",
   "execution_count": 189,
   "metadata": {},
   "outputs": [
    {
     "data": {
      "text/plain": [
       "750.9380323046399"
      ]
     },
     "execution_count": 189,
     "metadata": {},
     "output_type": "execute_result"
    }
   ],
   "source": [
    "calc_mse(pipe_etr)"
   ]
  },
  {
   "cell_type": "markdown",
   "metadata": {},
   "source": [
    "Our last model gives us the lowest MAE of all but this might lead to overfitting. Let's perform cross validation to see whether it is the case."
   ]
  },
  {
   "cell_type": "markdown",
   "metadata": {},
   "source": [
    "## Model Evaluation"
   ]
  },
  {
   "cell_type": "markdown",
   "metadata": {},
   "source": [
    "In the previous section, we simply computed the train error. In this section, we will assess the performance of our models we built using cross validation."
   ]
  },
  {
   "cell_type": "code",
   "execution_count": 190,
   "metadata": {},
   "outputs": [],
   "source": [
    "from sklearn.model_selection import train_test_split\n",
    "\n",
    "\n",
    "X_train, X_test, y_train, y_test = train_test_split(X, y, test_size=0.30, random_state=42)"
   ]
  },
  {
   "cell_type": "markdown",
   "metadata": {},
   "source": [
    "Let's write helper functions to compute the train and test MAE."
   ]
  },
  {
   "cell_type": "code",
   "execution_count": 195,
   "metadata": {},
   "outputs": [],
   "source": [
    "def calc_mse_subset(pipeline,subset):\n",
    "    if subset == \"train\": return mean_absolute_error(y_train, pipeline.predict(X_train))\n",
    "    else: return mean_absolute_error(y_test, pipeline.predict(X_test))\n",
    "\n",
    "\n",
    "def comp_errors(pipeline_list):\n",
    "    \n",
    "    for pipe in pipeline_list:\n",
    "        pipe.fit(X_train,y_train)\n",
    "    \n",
    "    train_errors = [calc_mse_subset(pipe,\"train\") for pipe in pipeline_list]\n",
    "    test_errors = [calc_mse_subset(pipe,\"test\") for pipe in pipeline_list]\n",
    "    abs_diff = np.abs(np.array(train_errors) - np.array(test_errors))\n",
    "    \n",
    "    return pd.DataFrame({'train_error':train_errors, 'test_error': test_errors, 'abs_diff':abs_diff},\n",
    "                       index = ['Ridge', 'Random Forest', 'GradientBooster','ExtraReg'])\n",
    "\n",
    "# def create_pipe(estimator):\n",
    "#     return Pipeline([('transform', MyTransformer()),\n",
    "#                      ('estimator', estimator())])\n"
   ]
  },
  {
   "cell_type": "code",
   "execution_count": 196,
   "metadata": {},
   "outputs": [
    {
     "data": {
      "text/html": [
       "<div>\n",
       "<style scoped>\n",
       "    .dataframe tbody tr th:only-of-type {\n",
       "        vertical-align: middle;\n",
       "    }\n",
       "\n",
       "    .dataframe tbody tr th {\n",
       "        vertical-align: top;\n",
       "    }\n",
       "\n",
       "    .dataframe thead th {\n",
       "        text-align: right;\n",
       "    }\n",
       "</style>\n",
       "<table border=\"1\" class=\"dataframe\">\n",
       "  <thead>\n",
       "    <tr style=\"text-align: right;\">\n",
       "      <th></th>\n",
       "      <th>train_error</th>\n",
       "      <th>test_error</th>\n",
       "      <th>abs_diff</th>\n",
       "    </tr>\n",
       "  </thead>\n",
       "  <tbody>\n",
       "    <tr>\n",
       "      <th>Ridge</th>\n",
       "      <td>8396.372877</td>\n",
       "      <td>8452.652111</td>\n",
       "      <td>56.279234</td>\n",
       "    </tr>\n",
       "    <tr>\n",
       "      <th>Random Forest</th>\n",
       "      <td>993.164858</td>\n",
       "      <td>1800.624155</td>\n",
       "      <td>807.459297</td>\n",
       "    </tr>\n",
       "    <tr>\n",
       "      <th>GradientBooster</th>\n",
       "      <td>7947.739319</td>\n",
       "      <td>8006.344765</td>\n",
       "      <td>58.605446</td>\n",
       "    </tr>\n",
       "    <tr>\n",
       "      <th>ExtraReg</th>\n",
       "      <td>678.430243</td>\n",
       "      <td>1857.994537</td>\n",
       "      <td>1179.564294</td>\n",
       "    </tr>\n",
       "  </tbody>\n",
       "</table>\n",
       "</div>"
      ],
      "text/plain": [
       "                 train_error   test_error     abs_diff\n",
       "Ridge            8396.372877  8452.652111    56.279234\n",
       "Random Forest     993.164858  1800.624155   807.459297\n",
       "GradientBooster  7947.739319  8006.344765    58.605446\n",
       "ExtraReg          678.430243  1857.994537  1179.564294"
      ]
     },
     "execution_count": 196,
     "metadata": {},
     "output_type": "execute_result"
    }
   ],
   "source": [
    "comp_errors([pipe,pipe_rf,pipe_gb, pipe_etr])"
   ]
  },
  {
   "cell_type": "markdown",
   "metadata": {},
   "source": [
    "Here, our random forest model has the lowest testing error while the ExtraTreeRegressor has the lowest training error. Bot suffer from high variance but ExtraTreeRegressor does worse. The model that overfits the least is our Ridge, followed by our gradient boosting regressor; both of these regressors have high bias as we can see from the train and test errors. The best choice here is our Random Forest regressor."
   ]
  },
  {
   "cell_type": "markdown",
   "metadata": {},
   "source": [
    "With enough computing power and time, one way to avoid overfitting is to perform hyperparameter tuning using the `GridSearchCV`. This way we can improve our random forest regressor without gaining bias."
   ]
  }
 ],
 "metadata": {
  "kernelspec": {
   "display_name": "Python 3",
   "language": "python",
   "name": "python3"
  },
  "language_info": {
   "codemirror_mode": {
    "name": "ipython",
    "version": 3
   },
   "file_extension": ".py",
   "mimetype": "text/x-python",
   "name": "python",
   "nbconvert_exporter": "python",
   "pygments_lexer": "ipython3",
   "version": "3.7.3"
  }
 },
 "nbformat": 4,
 "nbformat_minor": 2
}
